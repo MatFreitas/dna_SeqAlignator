{
 "cells": [
  {
   "cell_type": "markdown",
   "metadata": {},
   "source": [
    "## Relatório Projeto"
   ]
  },
  {
   "cell_type": "markdown",
   "metadata": {},
   "source": [
    "### Matheus Freitas Sant'Ana"
   ]
  },
  {
   "cell_type": "markdown",
   "metadata": {},
   "source": [
    "___\n",
    "Para usar este projeto, você deve primeiro compilar o código com o seguinte comando:\n",
    "\n",
    "`g++ -Wall -O3 BuscaExaustiva.cpp -o BuscaExaustiva`"
   ]
  },
  {
   "cell_type": "markdown",
   "metadata": {},
   "source": [
    "Para gerar o arquivo de entrada, rode o código abaixo:"
   ]
  },
  {
   "cell_type": "code",
   "execution_count": 3,
   "metadata": {},
   "outputs": [
    {
     "name": "stdout",
     "output_type": "stream",
     "text": [
      "10\n",
      "10\n",
      "G--A-GACGT\n",
      "-GTAGGG--A\n"
     ]
    }
   ],
   "source": [
    "import random\n",
    "n = 10\n",
    "m = 10\n",
    "file = 'dna.seq'\n",
    "f = open(file, 'w')\n",
    "seq=[str(n)+'\\n',\n",
    "     str(m)+'\\n',\n",
    "     ''.join(random.choices(['A','T','C','G','-'],k=n))+'\\n',\n",
    "     ''.join(random.choices(['A','T','C','G','-'],k=m))]\n",
    "f.writelines(seq)\n",
    "f.close()\n",
    "print(''.join(seq))"
   ]
  },
  {
   "cell_type": "markdown",
   "metadata": {},
   "source": [
    "Em seguida, rode a célula abaixo."
   ]
  },
  {
   "cell_type": "code",
   "execution_count": 2,
   "metadata": {},
   "outputs": [
    {
     "name": "stdout",
     "output_type": "stream",
     "text": [
      "a: -ACTGT-GTC\n",
      "b: GC-ACC-AAAC-GGGG-ATTACGTCT-CTG-CAC-CGTCA\n",
      "\n",
      "k: 9\n",
      "Maior valor global: 8\n",
      "Subsequências com alinhamento de score máximo: \n",
      "sa: -ACTGT-GT\n",
      "sb: -ATTACGTC\n",
      "\n",
      "k: 10\n",
      "Maior valor global: 5\n",
      "Subsequências com alinhamento de score máximo: \n",
      "sa: -ACTGT-GTC\n",
      "sb: AAC-GGGG-A\n",
      "\n",
      "k: 1\n",
      "Maior valor global: 2\n",
      "Subsequências com alinhamento de score máximo: \n",
      "sa: C\n",
      "sb: C\n",
      "\n",
      "k: 3\n",
      "Maior valor global: 3\n",
      "Subsequências com alinhamento de score máximo: \n",
      "sa: GTC\n",
      "sb: G-C\n",
      "\n",
      "k: 4\n",
      "Maior valor global: 5\n",
      "Subsequências com alinhamento de score máximo: \n",
      "sa: ACTG\n",
      "sb: ACGT\n",
      "\n",
      "k: 5\n",
      "Maior valor global: 4\n",
      "Subsequências com alinhamento de score máximo: \n",
      "sa: GT-GT\n",
      "sb: C-GGG\n",
      "\n",
      "k: 7\n",
      "Maior valor global: 6\n",
      "Subsequências com alinhamento de score máximo: \n",
      "sa: -ACTGT-\n",
      "sb: C-ACC-A\n",
      "\n",
      "k: 8\n",
      "Maior valor global: 8\n",
      "Subsequências com alinhamento de score máximo: \n",
      "sa: -ACTGT-G\n",
      "sb: -CTG-CAC\n",
      "\n",
      "k: 9\n",
      "Maior valor global: 8\n",
      "Subsequências com alinhamento de score máximo: \n",
      "sa: ACTGT-GTC\n",
      "sb: TTACGTCT-\n",
      "\n",
      "k: 1\n",
      "Maior valor global: 2\n",
      "Subsequências com alinhamento de score máximo: \n",
      "sa: G\n",
      "sb: G\n",
      "\n",
      "Stderr: \n",
      "Tempo total(s): 0.29692269999941345\n"
     ]
    }
   ],
   "source": [
    "import subprocess\n",
    "import time\n",
    "\n",
    "with open('./dna.seq') as f:\n",
    "    start = time.perf_counter()\n",
    "    proc = subprocess.run(['./BuscaExaustiva'], input=f.read(), text=True, capture_output=True)\n",
    "    end = time.perf_counter()\n",
    "\n",
    "    print(proc.stdout)\n",
    "    print('Stderr:', proc.stderr)\n",
    "    print('Tempo total(s):', end - start)"
   ]
  },
  {
   "cell_type": "markdown",
   "metadata": {},
   "source": [
    "**Disclaimer:** Esse código possui um alto tempo de execução para `n`s maiores que 60, podendo exceder até 4 minutos."
   ]
  },
  {
   "cell_type": "markdown",
   "metadata": {},
   "source": [
    "___\n",
    "## Validação \n",
    "\n",
    "O código foi validado usando o [simulador do algoritmo Smith-Waterman](http://rna.informatik.uni-freiburg.de/Teaching/index.jsp?toolName=Smith-Waterman). Um exemplo de input e output pode ser verificado nas imagens a seguir."
   ]
  },
  {
   "cell_type": "markdown",
   "metadata": {},
   "source": [
    "#### Código:\n",
    "\n",
    "- Input:\n",
    "\n",
    "![intputcode](inputcode.png \"Input Code\")\n",
    "\n",
    "- Output:\n",
    "\n",
    "![outputcode](outputcode.png \"Output Code\")."
   ]
  },
  {
   "cell_type": "markdown",
   "metadata": {},
   "source": [
    "#### Simulador\n",
    "\n",
    "- Input & Output:\n",
    "\n",
    "![outputcode](simulador.png \"Output Code\")."
   ]
  }
 ],
 "metadata": {
  "interpreter": {
   "hash": "916dbcbb3f70747c44a77c7bcd40155683ae19c65e1c03b4aa3499c5328201f1"
  },
  "kernelspec": {
   "display_name": "Python 3.8.10 64-bit",
   "language": "python",
   "name": "python3"
  },
  "language_info": {
   "codemirror_mode": {
    "name": "ipython",
    "version": 3
   },
   "file_extension": ".py",
   "mimetype": "text/x-python",
   "name": "python",
   "nbconvert_exporter": "python",
   "pygments_lexer": "ipython3",
   "version": "3.8.5"
  },
  "orig_nbformat": 4
 },
 "nbformat": 4,
 "nbformat_minor": 2
}
