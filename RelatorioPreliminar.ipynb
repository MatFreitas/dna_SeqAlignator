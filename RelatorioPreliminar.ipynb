{
 "cells": [
  {
   "cell_type": "markdown",
   "metadata": {},
   "source": [
    "### Relatório Preliminar -Matheus Freitas Sant'Ana"
   ]
  },
  {
   "cell_type": "code",
   "execution_count": 66,
   "metadata": {},
   "outputs": [],
   "source": [
    "import subprocess\n",
    "import time\n",
    "import os\n",
    "import sys\n",
    "import matplotlib.pyplot as plt\n",
    "import random\n",
    "import statistics\n",
    "import numpy as np\n",
    "import pandas as pd\n"
   ]
  },
  {
   "cell_type": "markdown",
   "metadata": {},
   "source": [
    "### Função para rodar executável e calcular tempo"
   ]
  },
  {
   "cell_type": "code",
   "execution_count": 56,
   "metadata": {},
   "outputs": [],
   "source": [
    "def roda_com_entrada(executavel, arquivo_in):\n",
    "    with open(arquivo_in) as f:\n",
    "        start = time.perf_counter()\n",
    "        proc = subprocess.run([executavel], input=f.read(), text=True, capture_output=True)\n",
    "        end = time.perf_counter()\n",
    "\n",
    "        # print('Saída:', proc.stdout)\n",
    "        # print('Stderr:', proc.stderr)\n",
    "        # print('Tempo total(s):', end - start)\n",
    "        f.close()\n",
    "    return (proc.stdout, end - start)"
   ]
  },
  {
   "cell_type": "markdown",
   "metadata": {},
   "source": [
    "### Gerando arquivos de entrada"
   ]
  },
  {
   "cell_type": "markdown",
   "metadata": {},
   "source": [
    "Aqui são gerados alguns arquivos de entrada com que vão progressivamente aumentando, para que sejam medidos a performance de cada heurística com entradas diferentes."
   ]
  },
  {
   "cell_type": "code",
   "execution_count": 57,
   "metadata": {},
   "outputs": [],
   "source": [
    "def gerador_entrada(n, m):\n",
    "    for i in range(0, 10):\n",
    "        f = open(f'./inputs/in-{i}.txt', 'w')\n",
    "        seq=[str(n)+'\\n',\n",
    "            str(m)+'\\n',\n",
    "            ''.join(random.choices(['A','T','C','G','-'],k=n))+'\\n',\n",
    "            ''.join(random.choices(['A','T','C','G','-'],k=m))]\n",
    "        f.writelines(seq)\n",
    "    f.close()    "
   ]
  },
  {
   "cell_type": "code",
   "execution_count": 58,
   "metadata": {},
   "outputs": [],
   "source": [
    "def gerador_entrada_BE(n, m, i):\n",
    "    f = open(f'./inputs/in-{i}.txt', 'w')\n",
    "    seq=[str(n)+'\\n',\n",
    "        str(m)+'\\n',\n",
    "        ''.join(random.choices(['A','T','C','G','-'],k=n))+'\\n',\n",
    "        ''.join(random.choices(['A','T','C','G','-'],k=m))]\n",
    "    f.writelines(seq)\n",
    "    f.close() "
   ]
  },
  {
   "cell_type": "markdown",
   "metadata": {},
   "source": [
    "### Explorando cada heurística"
   ]
  },
  {
   "cell_type": "code",
   "execution_count": 59,
   "metadata": {},
   "outputs": [
    {
     "name": "stdout",
     "output_type": "stream",
     "text": [
      "Melhor resultado\n",
      "\n",
      "Score alinhamento: 8\n",
      "Subsequência A:    G--A\n",
      "Subsequência B:    G--A\n",
      "\n",
      "Stderr: \n",
      "Tempo total(s): 0.5488257999968482\n"
     ]
    }
   ],
   "source": [
    "with open('./dna.seq') as f:\n",
    "    start = time.perf_counter()\n",
    "    proc = subprocess.run(['./BuscaExaustiva'], input=f.read(), text=True, capture_output=True)\n",
    "    end = time.perf_counter()\n",
    "\n",
    "    print(proc.stdout)\n",
    "    print('Stderr:', proc.stderr)\n",
    "    print('Tempo total(s):', end - start)"
   ]
  },
  {
   "cell_type": "code",
   "execution_count": 60,
   "metadata": {},
   "outputs": [
    {
     "name": "stdout",
     "output_type": "stream",
     "text": [
      "\u0000G--A\n",
      "****\n",
      "\u0000G--A\n",
      "\n",
      "Stderr: \n",
      "Tempo total(s): 0.33413210000435356\n"
     ]
    }
   ],
   "source": [
    "with open('./dna.seq') as f:\n",
    "    start = time.perf_counter()\n",
    "    proc = subprocess.run(['./SmithWaterman'], input=f.read(), text=True, capture_output=True)\n",
    "    end = time.perf_counter()\n",
    "\n",
    "    print(proc.stdout)\n",
    "    print('Stderr:', proc.stderr)\n",
    "    print('Tempo total(s):', end - start)"
   ]
  },
  {
   "cell_type": "markdown",
   "metadata": {},
   "source": [
    "#### Heurística SmithWaterman"
   ]
  },
  {
   "cell_type": "markdown",
   "metadata": {},
   "source": [
    "Essa primeira heurística leva em conta a construção de um amatriz de deslocamentos em que o score de cada cé"
   ]
  },
  {
   "cell_type": "code",
   "execution_count": null,
   "metadata": {},
   "outputs": [],
   "source": [
    "with open('./dna.seq') as f:\n",
    "    start = time.perf_counter()\n",
    "    proc = subprocess.run(['./SmithWaterman'], input=f.read(), text=True, capture_output=True)\n",
    "    end = time.perf_counter()\n",
    "\n",
    "    print(proc.stdout)\n",
    "    print('Stderr:', proc.stderr)\n",
    "    print('Tempo total(s):', end - start)"
   ]
  },
  {
   "cell_type": "code",
   "execution_count": 61,
   "metadata": {},
   "outputs": [
    {
     "name": "stdout",
     "output_type": "stream",
     "text": [
      "[10, 5010, 10010, 15010, 20010, 25010, 30010, 35010, 40010, 45010, 50010, 55010, 60010, 65010, 70010, 75010, 80010, 85010, 90010, 95010, 100010, 105010, 110010, 115010, 120010, 125010, 130010, 135010, 140010, 145010, 150010, 155010, 160010, 165010, 170010, 175010, 180010, 185010, 190010, 195010, 200010, 205010, 210010, 215010, 220010, 225010, 230010, 235010, 240010, 245010, 250010, 255010, 260010, 265010, 270010, 275010, 280010, 285010, 290010, 295010] [0.3118151999951806, 0.3224752999958582, 0.3123990000021877, 0.3204267999972217, 0.33754989999579266, 0.33593509999627713, 0.33870890000252984, 0.30443580000428483, 0.3132748000061838, 0.32274580000375863]\n"
     ]
    },
    {
     "data": {
      "image/png": "[encoded data removed]",
      "text/plain": [
       "<Figure size 432x288 with 1 Axes>"
      ]
     },
     "metadata": {
      "needs_background": "light"
     },
     "output_type": "display_data"
    }
   ],
   "source": [
    "tamanhos_SW = []\n",
    "media_tempo_SW = []\n",
    "\n",
    "n = 10\n",
    "m = 10\n",
    "\n",
    "for i in range(0, 60):\n",
    "    tempos_SW = []\n",
    "    gerador_entrada(n, m)\n",
    "\n",
    "    for i in range(0, 10):\n",
    "        tempos_SW.append(roda_com_entrada('./SmithWaterman', f'./inputs/in-{i}.txt')[1])\n",
    "    \n",
    "    tamanhos_SW.append(n)\n",
    "    media_tempo_SW.append(statistics.mean(tempos_SW))\n",
    "    \n",
    "\n",
    "    n += 5000\n",
    "    m += 5000 \n",
    "\n",
    "\n",
    "print(tamanhos_SW, tempos_SW)\n",
    "plt.scatter(tamanhos_SW, media_tempo_SW)\n",
    "plt.title('Heurística Smith Waterman')\n",
    "plt.xlabel('Tamanhos')\n",
    "plt.ylabel('Tempos')\n",
    "plt.show()"
   ]
  },
  {
   "cell_type": "markdown",
   "metadata": {},
   "source": [
    "#### Heurística Aleatorização"
   ]
  },
  {
   "cell_type": "code",
   "execution_count": 62,
   "metadata": {},
   "outputs": [
    {
     "name": "stdout",
     "output_type": "stream",
     "text": [
      "[10, 5010, 10010, 15010, 20010, 25010, 30010, 35010, 40010, 45010, 50010, 55010, 60010, 65010, 70010, 75010, 80010, 85010, 90010, 95010, 100010, 105010, 110010, 115010, 120010, 125010, 130010, 135010, 140010, 145010, 150010, 155010, 160010, 165010, 170010, 175010, 180010, 185010, 190010, 195010, 200010, 205010, 210010, 215010, 220010, 225010, 230010, 235010, 240010, 245010, 250010, 255010, 260010, 265010, 270010, 275010, 280010, 285010, 290010, 295010] [0.39640449998842087, 0.43509770001401193, 0.3845949999958975, 0.4253084999945713, 0.4230497000098694, 0.382057499999064, 0.371774600003846, 0.37138949999643955, 0.3987505999975838, 0.34506490000057966]\n"
     ]
    },
    {
     "data": {
      "image/png": "[encoded data removed]",
      "text/plain": [
       "<Figure size 432x288 with 1 Axes>"
      ]
     },
     "metadata": {
      "needs_background": "light"
     },
     "output_type": "display_data"
    }
   ],
   "source": [
    "tamanhos_AL = []\n",
    "media_tempo_AL = []\n",
    "\n",
    "n = 10\n",
    "m = 10\n",
    "\n",
    "for i in range(0, 60):\n",
    "    tempos_AL = []\n",
    "    gerador_entrada(n, m)\n",
    "\n",
    "    for i in range(0, 10):\n",
    "        tempos_AL.append(roda_com_entrada('./Aleatorizacao', f'./inputs/in-{i}.txt')[1])\n",
    "    \n",
    "    tamanhos_AL.append(n)\n",
    "    media_tempo_AL.append(statistics.mean(tempos_AL))\n",
    "    \n",
    "\n",
    "    n += 5000\n",
    "    m += 5000\n",
    "\n",
    "print(tamanhos_AL, tempos_AL)\n",
    "plt.scatter(tamanhos_AL, media_tempo_AL)\n",
    "plt.title('Heurística Aleatorização')\n",
    "plt.xlabel('Tamanhos')\n",
    "plt.ylabel('Tempos')\n",
    "plt.show()"
   ]
  },
  {
   "cell_type": "markdown",
   "metadata": {},
   "source": [
    "#### Busca Exaustiva"
   ]
  },
  {
   "cell_type": "code",
   "execution_count": 64,
   "metadata": {},
   "outputs": [
    {
     "name": "stdout",
     "output_type": "stream",
     "text": [
      "[5, 7, 9, 11, 13, 15, 17, 19, 21, 23, 25, 27, 29, 31, 33, 35, 37, 39, 41, 43] [38.53374729999632]\n"
     ]
    },
    {
     "data": {
      "image/png": "[encoded data removed]",
      "text/plain": [
       "<Figure size 432x288 with 1 Axes>"
      ]
     },
     "metadata": {
      "needs_background": "light"
     },
     "output_type": "display_data"
    }
   ],
   "source": [
    "tamanhos_BE = []\n",
    "media_tempo_BE = []\n",
    "\n",
    "n = 5\n",
    "m = 5\n",
    "\n",
    "for i in range(0, 20):\n",
    "    tempos_BE = []\n",
    "    gerador_entrada_BE(n, m, i)\n",
    "    \n",
    "    tempos_BE.append(roda_com_entrada('./BuscaExaustiva', f'./inputs/in-{i}.txt')[1])\n",
    "    \n",
    "    tamanhos_BE.append(n)\n",
    "    media_tempo_BE.append(statistics.mean(tempos_BE))\n",
    "    \n",
    "\n",
    "    n += 2\n",
    "    m += 2\n",
    "\n",
    "print(tamanhos_BE, tempos_BE)\n",
    "plt.scatter(tamanhos_BE, media_tempo_BE)\n",
    "plt.title('Heurística Busca Exaustiva')\n",
    "plt.xlabel('Tamanhos')\n",
    "plt.ylabel('Tempos')\n",
    "plt.show()"
   ]
  },
  {
   "cell_type": "markdown",
   "metadata": {},
   "source": [
    "#### Busca Exaustiva Truncado"
   ]
  },
  {
   "cell_type": "code",
   "execution_count": null,
   "metadata": {},
   "outputs": [
    {
     "name": "stdout",
     "output_type": "stream",
     "text": [
      "[5, 7, 9, 11, 13, 15, 17, 19, 21, 23, 25, 27, 29, 31, 33, 35, 37, 39, 41, 43] [0.7606716000009328]\n"
     ]
    },
    {
     "data": {
      "image/png": "[encoded data removed]",
      "text/plain": [
       "<Figure size 432x288 with 1 Axes>"
      ]
     },
     "metadata": {
      "needs_background": "light"
     },
     "output_type": "display_data"
    }
   ],
   "source": [
    "tamanhos_BT = []\n",
    "media_tempo_BT = []\n",
    "\n",
    "n = 5\n",
    "m = 5\n",
    "\n",
    "for i in range(0, 20):\n",
    "    tempos_BT = []\n",
    "    gerador_entrada_BE(n, m, i)\n",
    "    \n",
    "    tempos_BT.append(roda_com_entrada('./BuscaExaustivaTruncado', f'./inputs/in-{i}.txt')[1])\n",
    "    \n",
    "    tamanhos_BT.append(n)\n",
    "    media_tempo_BT.append(statistics.mean(tempos_BT))\n",
    "    \n",
    "\n",
    "    n += 2\n",
    "    m += 2\n",
    "\n",
    "print(tamanhos_BT, tempos_BT)\n",
    "plt.scatter(tamanhos_BT, media_tempo_BT)\n",
    "plt.title('Heurística Busca Exaustiva Truncado')\n",
    "plt.xlabel('Tamanhos')\n",
    "plt.ylabel('Tempos')\n",
    "plt.show()"
   ]
  },
  {
   "cell_type": "markdown",
   "metadata": {},
   "source": [
    "#### Comparação desempenho"
   ]
  },
  {
   "cell_type": "code",
   "execution_count": 71,
   "metadata": {},
   "outputs": [
    {
     "name": "stdout",
     "output_type": "stream",
     "text": [
      "-\n",
      "*\n",
      "-\n",
      "\n",
      "Stderr: \n",
      "Tempo total(s): 0.1824674999952549\n",
      "--GGC_T_AGCCGCTAT-TTCCCT__GT-GT\n",
      "*****  ********** *  ** * *****\n",
      "-CGGCGTAAG__G_TTTCTTTGATGGG--GT\n",
      "\n",
      "Stderr: \n",
      "Tempo total(s): 0.16308709999429993\n",
      "G_A-T-ACA-CCGGT-GCC-T--C-TTGGTTGTA__-G_C-G-T_TGG--T_GG_A_A_AG_TAC\n",
      "*** ** * * ** ****** * *** **  ** * *   * ** **** ***  **   *** *\n",
      "GTA-T___T-__GAT_GAC-_--_-___G_T_AA-C-G-C-G_TA-AGCATGGGCA-ACGG-CAC\n",
      "\n",
      "Stderr: \n",
      "Tempo total(s): 0.16242249999777414\n"
     ]
    }
   ],
   "source": [
    "n = 5\n",
    "m = 5\n",
    "\n",
    "for i in range(0, 3):\n",
    "    gerador_entrada_BE(n, m, i)\n",
    "    with open(f'./inputs/in-{i}.txt') as f:\n",
    "        \n",
    "        proc_SW = subprocess.run(['./SmithWaterman'], input=f.read(), text=True, capture_output=True)\n",
    "        proc_AL = subprocess.run(['./SmithWaterman'], input=f.read(), text=True, capture_output=True)\n",
    "\n",
    "        print(proc.stdout)\n",
    "    \n",
    "    n += 25\n",
    "    m += 25"
   ]
  },
  {
   "cell_type": "code",
   "execution_count": null,
   "metadata": {},
   "outputs": [],
   "source": [
    "df_results = pd.DataFrame({'R² (teste)': r2_rf_test,\n",
    "                           'R² (treinamento)': r2_rf_train,\n",
    "                           'MAPE (teste)': acuracia_rf,\n",
    "                           'MAPE (treinamento)': acuracia_rf_train},\n",
    "                            index=['Random Forest'])"
   ]
  },
  {
   "cell_type": "markdown",
   "metadata": {},
   "source": []
  }
 ],
 "metadata": {
  "interpreter": {
   "hash": "916dbcbb3f70747c44a77c7bcd40155683ae19c65e1c03b4aa3499c5328201f1"
  },
  "kernelspec": {
   "display_name": "Python 3.8.5 64-bit",
   "language": "python",
   "name": "python3"
  },
  "language_info": {
   "codemirror_mode": {
    "name": "ipython",
    "version": 3
   },
   "file_extension": ".py",
   "mimetype": "text/x-python",
   "name": "python",
   "nbconvert_exporter": "python",
   "pygments_lexer": "ipython3",
   "version": "3.8.5"
  },
  "orig_nbformat": 4
 },
 "nbformat": 4,
 "nbformat_minor": 2
}
