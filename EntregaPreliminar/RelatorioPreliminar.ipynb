{
 "cells": [
  {
   "cell_type": "markdown",
   "metadata": {},
   "source": [
    "### Relatório Preliminar - Matheus Freitas Sant'Ana"
   ]
  },
  {
   "cell_type": "code",
   "execution_count": 148,
   "metadata": {},
   "outputs": [],
   "source": [
    "from IPython.core.interactiveshell import InteractiveShell\n",
    "InteractiveShell.ast_node_interactivity = \"all\""
   ]
  },
  {
   "cell_type": "code",
   "execution_count": 149,
   "metadata": {},
   "outputs": [],
   "source": [
    "import subprocess\n",
    "import time\n",
    "import os\n",
    "import sys\n",
    "import matplotlib.pyplot as plt\n",
    "import random\n",
    "import statistics\n",
    "import numpy as np\n",
    "import pandas as pd\n"
   ]
  },
  {
   "cell_type": "markdown",
   "metadata": {},
   "source": [
    "### Função para rodar executável e calcular tempo"
   ]
  },
  {
   "cell_type": "code",
   "execution_count": 150,
   "metadata": {},
   "outputs": [],
   "source": [
    "def roda_com_entrada(executavel, arquivo_in):\n",
    "    with open(arquivo_in) as f:\n",
    "        start = time.perf_counter()\n",
    "        proc = subprocess.run([executavel], input=f.read(), text=True, capture_output=True)\n",
    "        end = time.perf_counter()\n",
    "\n",
    "        # print('Saída:', proc.stdout)\n",
    "        # print('Stderr:', proc.stderr)\n",
    "        # print('Tempo total(s):', end - start)\n",
    "        f.close()\n",
    "    return (proc.stdout, end - start)"
   ]
  },
  {
   "cell_type": "markdown",
   "metadata": {},
   "source": [
    "### Gerando arquivos de entrada"
   ]
  },
  {
   "cell_type": "markdown",
   "metadata": {},
   "source": [
    "Aqui são gerados alguns arquivos de entrada com que vão progressivamente aumentando, para que sejam medidos a performance de cada heurística com entradas diferentes. A função `gerador_entrada_BE` é para o caso da Busca Exaustiva, em que a dinâmica de criar diversos arquivos de entrada para um mesmo n e obter a média é abdicada devido à alta complexidade do código."
   ]
  },
  {
   "cell_type": "code",
   "execution_count": 151,
   "metadata": {},
   "outputs": [],
   "source": [
    "def gerador_entrada(n, m):\n",
    "    for i in range(0, 10):\n",
    "        f = open(f'./inputs/in-{i}.txt', 'w')\n",
    "        seq=[str(n)+'\\n',\n",
    "            str(m)+'\\n',\n",
    "            ''.join(random.choices(['A','T','C','G','-'],k=n))+'\\n',\n",
    "            ''.join(random.choices(['A','T','C','G','-'],k=m))]\n",
    "        f.writelines(seq)\n",
    "    f.close()       "
   ]
  },
  {
   "cell_type": "code",
   "execution_count": 152,
   "metadata": {},
   "outputs": [],
   "source": [
    "def gerador_entrada_BE(n, m, i):\n",
    "    f = open(f'./inputs/in-{i}.txt', 'w')\n",
    "    seq=[str(n)+'\\n',\n",
    "        str(m)+'\\n',\n",
    "        ''.join(random.choices(['A','T','C','G','-'],k=n))+'\\n',\n",
    "        ''.join(random.choices(['A','T','C','G','-'],k=m))]\n",
    "    f.writelines(seq)\n",
    "    f.close() "
   ]
  },
  {
   "cell_type": "markdown",
   "metadata": {},
   "source": [
    "#### Observações gerais"
   ]
  },
  {
   "cell_type": "markdown",
   "metadata": {},
   "source": [
    "- Foram utilizados vetores para declarações de variáveis que possivelmente poderiam estourar a memória, como a matriz H que para `n`s e `m`s muito grandes uma linha como `int H[n][m]` pode não funcionar.\n",
    "\n",
    "- Não será citado em todos os valgrinds, mas sempre que houve uma chamada à cin, isso sobrecarregou o programa. Além disso, alocações de grandes pedaços de memória como a da matriz H, também causou um alto número de instruções."
   ]
  },
  {
   "cell_type": "markdown",
   "metadata": {},
   "source": [
    "#### Heurística SmithWaterman"
   ]
  },
  {
   "cell_type": "markdown",
   "metadata": {},
   "source": [
    "Essa primeira heurística leva em conta a construção de um amatriz de deslocamentos em que o score de cada célula tem um cálculo e um movimento, sendo que o algoritmo consiste basicamente de pegar a célula de maior score e \"reconstruir\" seu caminho até que um zero seja encontrado ou até que a matriz acabe, atribuindo pesos ao `match`, em caso de correspondência de sequências; `mismatch`, em caso de não-correspondência; e `gap`, caso haja um gap. Para esse projeto, esses valores foram determinados em 2, -1, -1, para match, mismatch e gap, respectivamente. \n",
    "\n",
    "Sendo assim, a estratégia adotada foi a de gerar múltiplas entradas com um mesmo tamanho, de tal forma que o cálculo seja rodado diversas vezes para cada n e que se obtenha uma média dos tempos obtidos e por consequência adquirindo um resultado mais confiável. Isso também foi repetido para a heurística de busca local (aleatorização).\n",
    "\n",
    "A cada iteração, os tamanhos das sequêNicas geradas aleatoriamente são aumentados. No caso do algoritmo SmithWaterman, esse valor precisou ser muito alto, pois para valores baixos não é possível notar muitas diferenças de desempenho. Dito isso, o código é rodado 60 vezes com cada iteração o tamanho é aumentado. "
   ]
  },
  {
   "cell_type": "code",
   "execution_count": 202,
   "metadata": {},
   "outputs": [],
   "source": [
    "tamanhos_SW = []\n",
    "media_tempo_SW = []\n",
    "\n",
    "n = 10\n",
    "m = 10\n",
    "\n",
    "for i in range(0, 60):\n",
    "    tempos_SW = []\n",
    "    gerador_entrada(n, m)\n",
    "\n",
    "    for i in range(0, 10):\n",
    "        tempos_SW.append(roda_com_entrada('./SmithWaterman', f'./inputs/in-{i}.txt')[1])\n",
    "    \n",
    "    tamanhos_SW.append(n)\n",
    "    media_tempo_SW.append(statistics.mean(tempos_SW))\n",
    "    \n",
    "\n",
    "    n += 10\n",
    "    m += 10 "
   ]
  },
  {
   "cell_type": "code",
   "execution_count": 203,
   "metadata": {},
   "outputs": [
    {
     "data": {
      "text/plain": [
       "<matplotlib.collections.PathCollection at 0x7f596cf599d0>"
      ]
     },
     "execution_count": 203,
     "metadata": {},
     "output_type": "execute_result"
    },
    {
     "data": {
      "text/plain": [
       "[<matplotlib.lines.Line2D at 0x7f596cf59e80>]"
      ]
     },
     "execution_count": 203,
     "metadata": {},
     "output_type": "execute_result"
    },
    {
     "data": {
      "text/plain": [
       "Text(0.5, 1.0, 'Heurística Smith Waterman')"
      ]
     },
     "execution_count": 203,
     "metadata": {},
     "output_type": "execute_result"
    },
    {
     "data": {
      "text/plain": [
       "Text(0.5, 0, 'Tamanhos')"
      ]
     },
     "execution_count": 203,
     "metadata": {},
     "output_type": "execute_result"
    },
    {
     "data": {
      "text/plain": [
       "Text(0, 0.5, 'Tempos')"
      ]
     },
     "execution_count": 203,
     "metadata": {},
     "output_type": "execute_result"
    },
    {
     "data": {
      "image/png": "[encoded data removed]",
      "text/plain": [
       "<Figure size 432x288 with 1 Axes>"
      ]
     },
     "metadata": {
      "needs_background": "light"
     },
     "output_type": "display_data"
    }
   ],
   "source": [
    "plt.scatter(tamanhos_SW, media_tempo_SW)\n",
    "plt.plot(tamanhos_SW, media_tempo_SW)\n",
    "plt.title('Heurística Smith Waterman')\n",
    "plt.xlabel('Tamanhos')\n",
    "plt.ylabel('Tempos')\n",
    "plt.show()"
   ]
  },
  {
   "cell_type": "markdown",
   "metadata": {},
   "source": [
    "Pode-se observar que conforme o tamanho aumenta, há um maior consumo de tempo, e que a distribuição de cada ponto se assemelha um pouo à uma reta linear. Há um pico no tempo na faixa de valores de `n` 100, o que pode ser explicado por talvez outros processos estarem rodando no computador que podem ter afetado a performance. No entanto, observa que essa diferença de tempo para n maiores não é tão significativa assim, o que faz sentido pois o código roda 'apenas' uma vez, ou seja, constroi a matriz apenas uma vez. "
   ]
  },
  {
   "cell_type": "markdown",
   "metadata": {},
   "source": [
    "Agora, utilizando a ferramenta do valgrind, observa-se que o código tem uma alta carga de instruções nos seguintes trechos:"
   ]
  },
  {
   "cell_type": "markdown",
   "metadata": {},
   "source": [
    "```\n",
    ".      // Inicializar matriz com 0s.\n",
    "   413      for(int i = 0; i < n; i++) {\n",
    "41,107          for(int j = 0; j < m; j++) {\n",
    "10,504              H[i][j] = 0;\n",
    "     .          }\n",
    "     .      }\n",
    "```"
   ]
  },
  {
   "cell_type": "markdown",
   "metadata": {},
   "source": [
    "Nesse trecho, há uma alta complexidade de código devido aos dois loops aninhados, e como há uma escrita na matriz toda vez, isso acaba sobrecarregando o programa."
   ]
  },
  {
   "cell_type": "markdown",
   "metadata": {},
   "source": [
    "```\n",
    ".      // 3. Para cada 1≤i≤n e 1≤j≤m:\n",
    "   504      for(int i = 1; i < n; i++) {\n",
    "41,000          for(int j = 1; j < m; j++) {\n",
    "     .              // Calculando score w\n",
    "     .              int w;\n",
    "     .  \n",
    "     .              if(a[i] == b[j]) {\n",
    "     .                  // match\n",
    "     .                  w = 2;\n",
    "     .              } else {\n",
    "     .                  // mismatch ou gap\n",
    "70,000                  w = -1;\n",
    "     .              }\n",
    "    ```"
   ]
  },
  {
   "cell_type": "markdown",
   "metadata": {},
   "source": [
    "Aqui, houve uma alta chamada também do mismatch ou gap, indicando que essa sequência teve mais mismatchs e gaps do que matches."
   ]
  },
  {
   "cell_type": "markdown",
   "metadata": {},
   "source": [
    "#### Heurística Aleatorização"
   ]
  },
  {
   "cell_type": "markdown",
   "metadata": {},
   "source": [
    "Uma outra heurística é a de busca local, que consiste em basicamente adicionar aleatoridade às soluções da heurística anterior. Com isso, existem novos parâmetros `k`, que consiste no tamanho de cada subsequência que irá ser gerada, e o `p`, que representa a quantidade de subsequências geradas de uma das duas sequências. Esses parâmetros foram aleatorizados, e alguns fenômenos interessantes foram observados. \n",
    "\n",
    "Para o parâmetro `k`, foi observado que valores baixos de `k` implicam em scores menores de maneira geral. Para tamanhos de sequências menores, isso pode nao ser verdade, visto que às vezes um tamanho pequeno de subsequência como 3, pode ter o mesmo score de uma de 7. No entanto, essa disparidade é maior notada com tamanhos maiores. A maneira como é aleatorizado é pegando um número aleatório entre 0 e o tamanho da menor subsequência. Isso também determina os parâmtros de índice `i` e `j`, que representam o índice inicial de cada substring, A e B, que poderam ter um range de zero até um máximo `k - <tamanho_sequêcia>`. \n",
    "\n",
    " Já o parâmetro `p` é aleatorizado também. Ele tem um range de 1 até um valor máximo que se baseia no tamanho da maior sequência. Ou seja, é proporcional ao tamanho da sequência e representa o número de subsequências que irão ser geradas. é importante encontrar um equilíbrio entre `k` e `p`, pois foi observado que para `k`s grandes, um tamanho menor de `p` era interessante, pois não há muitas possibilidades de subsequências. No entanto, quando o k é pequeno, é interessante ter um p maior, pois assim é possível gerar mais subsequências e por consequência uma maior possibilidade de obter o score máximo."
   ]
  },
  {
   "cell_type": "code",
   "execution_count": 204,
   "metadata": {},
   "outputs": [
    {
     "name": "stdout",
     "output_type": "stream",
     "text": [
      "[10, 20, 30, 40, 50, 60, 70, 80, 90, 100, 110, 120, 130, 140, 150, 160, 170, 180, 190, 200, 210, 220, 230, 240, 250, 260, 270, 280, 290, 300, 310, 320, 330, 340, 350, 360, 370, 380, 390, 400] [3.125368500011973, 3.087517600011779, 3.1274163000052795, 3.0612948999914806, 3.1625346000073478, 3.1826456999988295, 3.0946468000183813, 3.075638899987098, 3.117784100002609, 3.1146990999986883]\n"
     ]
    },
    {
     "data": {
      "text/plain": [
       "<matplotlib.collections.PathCollection at 0x7f596cec4b80>"
      ]
     },
     "execution_count": 204,
     "metadata": {},
     "output_type": "execute_result"
    },
    {
     "data": {
      "text/plain": [
       "Text(0.5, 1.0, 'Heurística Aleatorização')"
      ]
     },
     "execution_count": 204,
     "metadata": {},
     "output_type": "execute_result"
    },
    {
     "data": {
      "text/plain": [
       "Text(0.5, 0, 'Tamanhos')"
      ]
     },
     "execution_count": 204,
     "metadata": {},
     "output_type": "execute_result"
    },
    {
     "data": {
      "text/plain": [
       "Text(0, 0.5, 'Tempos')"
      ]
     },
     "execution_count": 204,
     "metadata": {},
     "output_type": "execute_result"
    },
    {
     "data": {
      "image/png": "[encoded data removed]",
      "text/plain": [
       "<Figure size 432x288 with 1 Axes>"
      ]
     },
     "metadata": {
      "needs_background": "light"
     },
     "output_type": "display_data"
    }
   ],
   "source": [
    "tamanhos_AL = []\n",
    "media_tempo_AL = []\n",
    "\n",
    "n = 10\n",
    "m = 10\n",
    "\n",
    "for i in range(0, 40):\n",
    "    tempos_AL = []\n",
    "    gerador_entrada(n, m)\n",
    "\n",
    "    for i in range(0, 10):\n",
    "        tempos_AL.append(roda_com_entrada('./Aleatorizacao', f'./inputs/in-{i}.txt')[1])\n",
    "    \n",
    "    tamanhos_AL.append(n)\n",
    "    media_tempo_AL.append(statistics.mean(tempos_AL))\n",
    "    \n",
    "\n",
    "    n += 10\n",
    "    m += 10\n",
    "\n",
    "print(tamanhos_AL, tempos_AL)\n",
    "plt.scatter(tamanhos_AL, media_tempo_AL)\n",
    "plt.title('Heurística Aleatorização')\n",
    "plt.xlabel('Tamanhos')\n",
    "plt.ylabel('Tempos')\n",
    "plt.show()"
   ]
  },
  {
   "cell_type": "markdown",
   "metadata": {},
   "source": [
    "Já com a aleatorização, em compensação, foi observado um comportamento mais similar à de uma exponencial. Ou seja, quanto maior o n, pior o desempenho dessa heurística (e esse pior desempenho é mais notável do que na heurística SmithWaterman). Além disso, nota-se que o tempo foi muito maior nessa heurística, com o maiorr valor de n demorando próximo a 3 segundos, enquanto que na de SmithWaterman esse valor é de 0,05 segundos."
   ]
  },
  {
   "cell_type": "markdown",
   "metadata": {},
   "source": [
    "```\n",
    "    280,538          for(int i = 0; i < n; i++) {\n",
    "   610,960              for(int j = 0; j < m; j++) {\n",
    " 4,609,434  => ???:0x0000000000109220 (122,192x)\n",
    "        60                  H[i][j] = 0;\n",
    "         .              }\n",
    "         .          }\n",
    "```"
   ]
  },
  {
   "cell_type": "markdown",
   "metadata": {},
   "source": [
    "Os dois loops novamente mostram um altíssimo número de chamadas."
   ]
  },
  {
   "cell_type": "markdown",
   "metadata": {},
   "source": [
    "```\n",
    "    10,388      for(int iter = 0; iter < p; iter++) {\n",
    "         .          i = distribution_i(generator);\n",
    "         .          // cout << endl << \"i: \" << i << endl;\n",
    "     2,587          sa = a.substr(i, k);\n",
    "         .          // cout << \"sa: \" << sa << endl;\n",
    "    ```"
   ]
  },
  {
   "cell_type": "markdown",
   "metadata": {},
   "source": [
    "Além disso, o novo loop de geração de cada subsequência de A é causa um alto número de chamada de instruções."
   ]
  },
  {
   "cell_type": "markdown",
   "metadata": {},
   "source": [
    "#### Busca Exaustiva"
   ]
  },
  {
   "cell_type": "markdown",
   "metadata": {},
   "source": [
    "Essa heurística tem como principal objetivo levantar todas as possibilidades possíveis de subsequências e escolher o melhor resultado delas. Ou seja, obtem a **solução ótima global**. Duas estratégias diferentes foram utilizadadas para o cálculo dos scores, sendo a primeira a do SmithWaterman que consiste na construção da matriz, e a segunda será explicada mais a frente. Espera-se que, apesar de ter um score ótimo, já que encontra a melhor solução, mas em compensação esse algoritmo não consegue rodar para as entradas das heurísticas do SmithWaterman e da Aleatorização."
   ]
  },
  {
   "cell_type": "code",
   "execution_count": 207,
   "metadata": {},
   "outputs": [
    {
     "name": "stdout",
     "output_type": "stream",
     "text": [
      "[5, 7, 9, 11, 13, 15, 17, 19, 21, 23, 25, 27, 29, 31, 33, 35, 37, 39, 41, 43] [77.7139853000117]\n"
     ]
    },
    {
     "data": {
      "text/plain": [
       "<matplotlib.collections.PathCollection at 0x7f596cdd4fa0>"
      ]
     },
     "execution_count": 207,
     "metadata": {},
     "output_type": "execute_result"
    },
    {
     "data": {
      "text/plain": [
       "Text(0.5, 1.0, 'Heurística Busca Exaustiva')"
      ]
     },
     "execution_count": 207,
     "metadata": {},
     "output_type": "execute_result"
    },
    {
     "data": {
      "text/plain": [
       "Text(0.5, 0, 'Tamanhos')"
      ]
     },
     "execution_count": 207,
     "metadata": {},
     "output_type": "execute_result"
    },
    {
     "data": {
      "text/plain": [
       "Text(0, 0.5, 'Tempos')"
      ]
     },
     "execution_count": 207,
     "metadata": {},
     "output_type": "execute_result"
    },
    {
     "data": {
      "image/png": "[encoded data removed]",
      "text/plain": [
       "<Figure size 432x288 with 1 Axes>"
      ]
     },
     "metadata": {
      "needs_background": "light"
     },
     "output_type": "display_data"
    }
   ],
   "source": [
    "tamanhos_BE = []\n",
    "media_tempo_BE = []\n",
    "\n",
    "n = 5\n",
    "m = 5\n",
    "\n",
    "for i in range(0, 20):\n",
    "    tempos_BE = []\n",
    "    gerador_entrada_BE(n, m, i)\n",
    "    \n",
    "    tempos_BE.append(roda_com_entrada('./BuscaExaustiva', f'./inputs/in-{i}.txt')[1])\n",
    "    \n",
    "    tamanhos_BE.append(n)\n",
    "    media_tempo_BE.append(statistics.mean(tempos_BE))\n",
    "    \n",
    "\n",
    "    n += 2\n",
    "    m += 2\n",
    "\n",
    "print(tamanhos_BE, tempos_BE)\n",
    "plt.scatter(tamanhos_BE, media_tempo_BE)\n",
    "plt.title('Heurística Busca Exaustiva')\n",
    "plt.xlabel('Tamanhos')\n",
    "plt.ylabel('Tempos')\n",
    "plt.show()"
   ]
  },
  {
   "cell_type": "markdown",
   "metadata": {},
   "source": [
    "O gráfico possui um formato similar à heurística de aleatorização, mas o tempo é muito maior, mesmo com tamanhos menores. Descobriu-se que o tamanho máximo antes de não rodar mais o código era algo em torno de 60 para n e m. O tempo já é muito alto para tamanhos muito grandes, excedendo até 1 minuto em alguns casos."
   ]
  },
  {
   "cell_type": "markdown",
   "metadata": {},
   "source": [
    "```\n",
    "    1      int seed = 13607;\n",
    "        20      for(int i = 0; i < 10; i++) {\n",
    "     2,290          for(uint i = 0; i < a_combinations.size(); i++) {\n",
    "   122,100              for(uint j = 0; j < b_combinations.size(); j++) {\n",
    "    90,750                  n = a_combinations[i].size();\n",
    "    60,500                  m = b_combinations[j].size();\n",
    "         .  \n",
    "         .                  result alignment;\n",
    "   211,750                  alignment = algorithmLocalAlignment(n, m, a_combinations[i], b_combinations[j], seed);\n",
    "1,101,528,035  => BuscaExaustiva.cpp:algorithmLocalAlignment(int, int, std::__cxx11::basic_string<char, std::char_traits<char>, std::allocator<char> >, std::__cxx11::basic_string<char, std::char_traits<char>, std::allocator<char> >, unsigned int) (30,250x)\n",
    "         .  \n",
    "    90,750                  if(alignment.score > bestResult.score) {\n",
    "         .                      bestResult = alignment;\n",
    "         .                  }\n",
    "    30,250                  seed++;\n",
    "         .              }\n",
    "         .          }\n",
    "         .      }\n",
    " ```"
   ]
  },
  {
   "cell_type": "markdown",
   "metadata": {},
   "source": [
    "Além dos mesmos trechos dos anteriores,  agora essa parte possui um maior número de chamadas à `algorithmLocalAlignment`, causando um alto número de instruções. Cada chamada dessa função envolve todo o cálculo da matriz H, e como é a heurística aleatorizada que está sendo calculada, há também o for das `p`s subsequências que estão sendo geradas. Depois disso, é necessário também sempre comparar com o melhor resultado e finalmente retornar, tudo isso acarretando em uma das maiores complexidades e número de instruções de código."
   ]
  },
  {
   "cell_type": "markdown",
   "metadata": {},
   "source": [
    "#### Busca Exaustiva Truncado"
   ]
  },
  {
   "cell_type": "markdown",
   "metadata": {},
   "source": [
    "Essa estratégia foi escolhida visando uma diminuição no tempo total de consumo, porém ainda utilizando a estratégia de Busca Exaustiva. Consiste basicamente em redimensionar a maior subsequência para o tamanho da menor, e calcular o score desse par de subsequências escolhendo o melhor. "
   ]
  },
  {
   "cell_type": "code",
   "execution_count": 208,
   "metadata": {},
   "outputs": [
    {
     "name": "stdout",
     "output_type": "stream",
     "text": [
      "[5, 7, 9, 11, 13, 15, 17, 19, 21, 23, 25, 27, 29, 31, 33, 35, 37, 39, 41, 43] [0.777910199976759]\n"
     ]
    },
    {
     "data": {
      "text/plain": [
       "<matplotlib.collections.PathCollection at 0x7f596cd44940>"
      ]
     },
     "execution_count": 208,
     "metadata": {},
     "output_type": "execute_result"
    },
    {
     "data": {
      "text/plain": [
       "Text(0.5, 1.0, 'Heurística Busca Exaustiva Truncado')"
      ]
     },
     "execution_count": 208,
     "metadata": {},
     "output_type": "execute_result"
    },
    {
     "data": {
      "text/plain": [
       "Text(0.5, 0, 'Tamanhos')"
      ]
     },
     "execution_count": 208,
     "metadata": {},
     "output_type": "execute_result"
    },
    {
     "data": {
      "text/plain": [
       "Text(0, 0.5, 'Tempos')"
      ]
     },
     "execution_count": 208,
     "metadata": {},
     "output_type": "execute_result"
    },
    {
     "data": {
      "image/png": "[encoded data removed]",
      "text/plain": [
       "<Figure size 432x288 with 1 Axes>"
      ]
     },
     "metadata": {
      "needs_background": "light"
     },
     "output_type": "display_data"
    }
   ],
   "source": [
    "tamanhos_BT = []\n",
    "media_tempo_BT = []\n",
    "\n",
    "n = 5\n",
    "m = 5\n",
    "\n",
    "for i in range(0, 20):\n",
    "    tempos_BT = []\n",
    "    gerador_entrada_BE(n, m, i)\n",
    "    \n",
    "    tempos_BT.append(roda_com_entrada('./BuscaExaustivaTruncado', f'./inputs/in-{i}.txt')[1])\n",
    "    \n",
    "    tamanhos_BT.append(n)\n",
    "    media_tempo_BT.append(statistics.mean(tempos_BT))\n",
    "    \n",
    "\n",
    "    n += 2\n",
    "    m += 2\n",
    "\n",
    "print(tamanhos_BT, tempos_BT)\n",
    "plt.scatter(tamanhos_BT, media_tempo_BT)\n",
    "plt.title('Heurística Busca Exaustiva Truncado')\n",
    "plt.xlabel('Tamanhos')\n",
    "plt.ylabel('Tempos')\n",
    "plt.show()"
   ]
  },
  {
   "cell_type": "markdown",
   "metadata": {},
   "source": [
    "Observando o gráfico, pode-se verificar que ele possui um formato similar ao da primeira estratégia de busca exaustiva, e também um menor tempo. Como parte de cada subsequência é sacrificada, espera-se que seu desempenho seja menor em relação ao original, o que irá ser confirmado na próxima seção."
   ]
  },
  {
   "cell_type": "markdown",
   "metadata": {},
   "source": [
    "Esse código não é muito pesado, pois não há loops que chamam funções complexas de cálculos. Ele apenas faz um simples cálculo e sacrifica parte da string de uma das subsequências para facilitar o cálculo. A parte mais pesada desse código são os cins, similarmente às heurísticas anteriores."
   ]
  },
  {
   "cell_type": "markdown",
   "metadata": {},
   "source": [
    "#### Comparação desempenho"
   ]
  },
  {
   "cell_type": "markdown",
   "metadata": {},
   "source": [
    "Agora que todos os gráficos individuais foram gerados, para efeito de comparação serão gerados rodadas todas as heurísticas para 3 inputs diferentes, e observar se houve diferença de desempenho apenas ( a métrica do tempo já foi analisada anteriormente)"
   ]
  },
  {
   "cell_type": "code",
   "execution_count": 211,
   "metadata": {},
   "outputs": [
    {
     "name": "stderr",
     "output_type": "stream",
     "text": [
      "/tmp/ipykernel_9135/3780873345.py:31: FutureWarning: The frame.append method is deprecated and will be removed from pandas in a future version. Use pandas.concat instead.\n",
      "  df_results = df_results.append({'n': n,\n",
      "/tmp/ipykernel_9135/3780873345.py:37: FutureWarning: The frame.append method is deprecated and will be removed from pandas in a future version. Use pandas.concat instead.\n",
      "  df_results = df_results.append({'n': n,\n",
      "/tmp/ipykernel_9135/3780873345.py:43: FutureWarning: The frame.append method is deprecated and will be removed from pandas in a future version. Use pandas.concat instead.\n",
      "  df_results = df_results.append({'n': n,\n",
      "/tmp/ipykernel_9135/3780873345.py:49: FutureWarning: The frame.append method is deprecated and will be removed from pandas in a future version. Use pandas.concat instead.\n",
      "  df_results = df_results.append({'n': n,\n",
      "/tmp/ipykernel_9135/3780873345.py:31: FutureWarning: The frame.append method is deprecated and will be removed from pandas in a future version. Use pandas.concat instead.\n",
      "  df_results = df_results.append({'n': n,\n",
      "/tmp/ipykernel_9135/3780873345.py:37: FutureWarning: The frame.append method is deprecated and will be removed from pandas in a future version. Use pandas.concat instead.\n",
      "  df_results = df_results.append({'n': n,\n",
      "/tmp/ipykernel_9135/3780873345.py:43: FutureWarning: The frame.append method is deprecated and will be removed from pandas in a future version. Use pandas.concat instead.\n",
      "  df_results = df_results.append({'n': n,\n",
      "/tmp/ipykernel_9135/3780873345.py:49: FutureWarning: The frame.append method is deprecated and will be removed from pandas in a future version. Use pandas.concat instead.\n",
      "  df_results = df_results.append({'n': n,\n",
      "/tmp/ipykernel_9135/3780873345.py:31: FutureWarning: The frame.append method is deprecated and will be removed from pandas in a future version. Use pandas.concat instead.\n",
      "  df_results = df_results.append({'n': n,\n",
      "/tmp/ipykernel_9135/3780873345.py:37: FutureWarning: The frame.append method is deprecated and will be removed from pandas in a future version. Use pandas.concat instead.\n",
      "  df_results = df_results.append({'n': n,\n",
      "/tmp/ipykernel_9135/3780873345.py:43: FutureWarning: The frame.append method is deprecated and will be removed from pandas in a future version. Use pandas.concat instead.\n",
      "  df_results = df_results.append({'n': n,\n",
      "/tmp/ipykernel_9135/3780873345.py:49: FutureWarning: The frame.append method is deprecated and will be removed from pandas in a future version. Use pandas.concat instead.\n",
      "  df_results = df_results.append({'n': n,\n"
     ]
    }
   ],
   "source": [
    "n = 5\n",
    "m = 5\n",
    "df_results = pd.DataFrame()\n",
    "index = []\n",
    "\n",
    "for i in range(0, 3):\n",
    "    gerador_entrada_BE(n, m, i)\n",
    "    with open(f'./inputs/in-{i}.txt') as f:\n",
    "        \n",
    "        proc_SW = roda_com_entrada('./SmithWaterman', f'./inputs/in-{i}.txt')[0]\n",
    "        proc_AL = roda_com_entrada('./Aleatorizacao', f'./inputs/in-{i}.txt')[0]\n",
    "        proc_BE = roda_com_entrada('./BuscaExaustiva', f'./inputs/in-{i}.txt')[0]\n",
    "        proc_BT = roda_com_entrada('./BuscaExaustivaTruncado', f'./inputs/in-{i}.txt')[0]\n",
    "\n",
    "        # print(f'Arquivo in-{i}.txt')\n",
    "        # print(proc_SW)\n",
    "        # print(proc_AL)\n",
    "        # print(proc_BE)\n",
    "        # print(proc_BT)\n",
    "\n",
    "        list_SW = proc_SW.splitlines()\n",
    "        index.append('SmithWaterman ')\n",
    "        list_AL = proc_AL.splitlines()\n",
    "        index.append('Aleatorizacao ')\n",
    "        list_BE = proc_BE.splitlines()\n",
    "        index.append('BuscaExaustiva')\n",
    "        list_BT = proc_BT.splitlines()\n",
    "        index.append('ExaustivaTrunc')\n",
    "\n",
    "\n",
    "        df_results = df_results.append({'n': n,\n",
    "                           'm': m,\n",
    "                           'score': list_SW[0],\n",
    "                           'subsequência A': list_SW[1],\n",
    "                           'subsequência B': list_SW[2],\n",
    "                           }, ignore_index=True)\n",
    "        df_results = df_results.append({'n': n,\n",
    "                           'm': m,\n",
    "                           'score': list_AL[0],\n",
    "                           'subsequência A': list_AL[1],\n",
    "                           'subsequência B': list_AL[2],\n",
    "                           }, ignore_index=True)\n",
    "        df_results = df_results.append({'n': n,\n",
    "                           'm': m,\n",
    "                           'score': list_BE[0],\n",
    "                           'subsequência A': list_BE[1],\n",
    "                           'subsequência B': list_BE[2],\n",
    "                           }, ignore_index=True)\n",
    "        df_results = df_results.append({'n': n,\n",
    "                           'm': m,\n",
    "                           'score': list_BT[0],\n",
    "                           'subsequência A': list_BT[1],\n",
    "                           'subsequência B': list_BT[2],\n",
    "                           }, ignore_index=True)\n",
    "        df_results.index = index\n",
    "    \n",
    "    n += 25\n",
    "    m += 25"
   ]
  },
  {
   "cell_type": "markdown",
   "metadata": {},
   "source": [
    "Gerando a tabela de comparação de resultados:"
   ]
  },
  {
   "cell_type": "code",
   "execution_count": 213,
   "metadata": {},
   "outputs": [
    {
     "data": {
      "text/html": [
       "<div>\n",
       "<style scoped>\n",
       "    .dataframe tbody tr th:only-of-type {\n",
       "        vertical-align: middle;\n",
       "    }\n",
       "\n",
       "    .dataframe tbody tr th {\n",
       "        vertical-align: top;\n",
       "    }\n",
       "\n",
       "    .dataframe thead th {\n",
       "        text-align: right;\n",
       "    }\n",
       "</style>\n",
       "<table border=\"1\" class=\"dataframe\">\n",
       "  <thead>\n",
       "    <tr style=\"text-align: right;\">\n",
       "      <th></th>\n",
       "      <th>n</th>\n",
       "      <th>m</th>\n",
       "      <th>score</th>\n",
       "      <th>subsequência A</th>\n",
       "      <th>subsequência B</th>\n",
       "    </tr>\n",
       "  </thead>\n",
       "  <tbody>\n",
       "    <tr>\n",
       "      <th>SmithWaterman</th>\n",
       "      <td>5</td>\n",
       "      <td>5</td>\n",
       "      <td>Melhor Resultado: 4</td>\n",
       "      <td>TG</td>\n",
       "      <td>TG</td>\n",
       "    </tr>\n",
       "    <tr>\n",
       "      <th>Aleatorizacao</th>\n",
       "      <td>5</td>\n",
       "      <td>5</td>\n",
       "      <td>Melhor resultado: 4</td>\n",
       "      <td>--TGTA</td>\n",
       "      <td>-CTTG-</td>\n",
       "    </tr>\n",
       "    <tr>\n",
       "      <th>BuscaExaustiva</th>\n",
       "      <td>5</td>\n",
       "      <td>5</td>\n",
       "      <td>Melhor resultado: 4</td>\n",
       "      <td>TG</td>\n",
       "      <td>TG</td>\n",
       "    </tr>\n",
       "    <tr>\n",
       "      <th>ExaustivaTrunc</th>\n",
       "      <td>5</td>\n",
       "      <td>5</td>\n",
       "      <td>Melhor resultado: 4</td>\n",
       "      <td>TG</td>\n",
       "      <td>TG</td>\n",
       "    </tr>\n",
       "    <tr>\n",
       "      <th>SmithWaterman</th>\n",
       "      <td>30</td>\n",
       "      <td>30</td>\n",
       "      <td>Melhor Resultado: 16</td>\n",
       "      <td>A-_G_GGA-_--G-GA--ACTAA--C</td>\n",
       "      <td>A-CG-GGG-CC-_TGT--__TTAG-C</td>\n",
       "    </tr>\n",
       "    <tr>\n",
       "      <th>Aleatorizacao</th>\n",
       "      <td>30</td>\n",
       "      <td>30</td>\n",
       "      <td>Melhor resultado: 16</td>\n",
       "      <td>--GGGA---G-GA--ACTAA--C-AT-</td>\n",
       "      <td>-A-A-CG-GGG-CC-TGT--TTAG-CC</td>\n",
       "    </tr>\n",
       "    <tr>\n",
       "      <th>BuscaExaustiva</th>\n",
       "      <td>30</td>\n",
       "      <td>30</td>\n",
       "      <td>Melhor resultado: 16</td>\n",
       "      <td>-GGGA---G-GA--ACTAA--C</td>\n",
       "      <td>-GGG-CC-TGT--TTAG-CCGT</td>\n",
       "    </tr>\n",
       "    <tr>\n",
       "      <th>ExaustivaTrunc</th>\n",
       "      <td>30</td>\n",
       "      <td>30</td>\n",
       "      <td>Melhor resultado: 8</td>\n",
       "      <td>-GGG</td>\n",
       "      <td>-GGG</td>\n",
       "    </tr>\n",
       "    <tr>\n",
       "      <th>SmithWaterman</th>\n",
       "      <td>55</td>\n",
       "      <td>55</td>\n",
       "      <td>Melhor Resultado: 29</td>\n",
       "      <td>TGAGTT-AG-C_-GGAA_C_TA_T--A-G-__CTT-_GGA</td>\n",
       "      <td>TG_GTT_ACACG-GCAA-CTTACGAAA-G-TAC_T-CGCA</td>\n",
       "    </tr>\n",
       "    <tr>\n",
       "      <th>Aleatorizacao</th>\n",
       "      <td>55</td>\n",
       "      <td>55</td>\n",
       "      <td>Melhor resultado: 28</td>\n",
       "      <td>-TGAGTT-AG-C-GGAACTAT--A-G-CTT-GGATCTGTC-GGGTG...</td>\n",
       "      <td>-CT-GTAA-AGG--ATACATGGTTACACG-GCAA-CTTACGAAA-G...</td>\n",
       "    </tr>\n",
       "    <tr>\n",
       "      <th>BuscaExaustiva</th>\n",
       "      <td>55</td>\n",
       "      <td>55</td>\n",
       "      <td>Melhor resultado: 29</td>\n",
       "      <td>TGAGTT-AG-C-GGAACTAT--A-G-CTT-GGATCTGT</td>\n",
       "      <td>ATGGTTACACG-GCAA-CTTACGAAA-G-TACT-CGCA</td>\n",
       "    </tr>\n",
       "    <tr>\n",
       "      <th>ExaustivaTrunc</th>\n",
       "      <td>55</td>\n",
       "      <td>55</td>\n",
       "      <td>Melhor resultado: 10</td>\n",
       "      <td>-CTT-GGA</td>\n",
       "      <td>-CTTACGA</td>\n",
       "    </tr>\n",
       "  </tbody>\n",
       "</table>\n",
       "</div>"
      ],
      "text/plain": [
       "                 n   m                 score  \\\n",
       "SmithWaterman    5   5   Melhor Resultado: 4   \n",
       "Aleatorizacao    5   5   Melhor resultado: 4   \n",
       "BuscaExaustiva   5   5   Melhor resultado: 4   \n",
       "ExaustivaTrunc   5   5   Melhor resultado: 4   \n",
       "SmithWaterman   30  30  Melhor Resultado: 16   \n",
       "Aleatorizacao   30  30  Melhor resultado: 16   \n",
       "BuscaExaustiva  30  30  Melhor resultado: 16   \n",
       "ExaustivaTrunc  30  30   Melhor resultado: 8   \n",
       "SmithWaterman   55  55  Melhor Resultado: 29   \n",
       "Aleatorizacao   55  55  Melhor resultado: 28   \n",
       "BuscaExaustiva  55  55  Melhor resultado: 29   \n",
       "ExaustivaTrunc  55  55  Melhor resultado: 10   \n",
       "\n",
       "                                                   subsequência A  \\\n",
       "SmithWaterman                                                  TG   \n",
       "Aleatorizacao                                              --TGTA   \n",
       "BuscaExaustiva                                                 TG   \n",
       "ExaustivaTrunc                                                 TG   \n",
       "SmithWaterman                          A-_G_GGA-_--G-GA--ACTAA--C   \n",
       "Aleatorizacao                         --GGGA---G-GA--ACTAA--C-AT-   \n",
       "BuscaExaustiva                             -GGGA---G-GA--ACTAA--C   \n",
       "ExaustivaTrunc                                               -GGG   \n",
       "SmithWaterman            TGAGTT-AG-C_-GGAA_C_TA_T--A-G-__CTT-_GGA   \n",
       "Aleatorizacao   -TGAGTT-AG-C-GGAACTAT--A-G-CTT-GGATCTGTC-GGGTG...   \n",
       "BuscaExaustiva             TGAGTT-AG-C-GGAACTAT--A-G-CTT-GGATCTGT   \n",
       "ExaustivaTrunc                                           -CTT-GGA   \n",
       "\n",
       "                                                   subsequência B  \n",
       "SmithWaterman                                                  TG  \n",
       "Aleatorizacao                                              -CTTG-  \n",
       "BuscaExaustiva                                                 TG  \n",
       "ExaustivaTrunc                                                 TG  \n",
       "SmithWaterman                          A-CG-GGG-CC-_TGT--__TTAG-C  \n",
       "Aleatorizacao                         -A-A-CG-GGG-CC-TGT--TTAG-CC  \n",
       "BuscaExaustiva                             -GGG-CC-TGT--TTAG-CCGT  \n",
       "ExaustivaTrunc                                               -GGG  \n",
       "SmithWaterman            TG_GTT_ACACG-GCAA-CTTACGAAA-G-TAC_T-CGCA  \n",
       "Aleatorizacao   -CT-GTAA-AGG--ATACATGGTTACACG-GCAA-CTTACGAAA-G...  \n",
       "BuscaExaustiva             ATGGTTACACG-GCAA-CTTACGAAA-G-TACT-CGCA  \n",
       "ExaustivaTrunc                                           -CTTACGA  "
      ]
     },
     "execution_count": 213,
     "metadata": {},
     "output_type": "execute_result"
    }
   ],
   "source": [
    "df_results"
   ]
  },
  {
   "cell_type": "markdown",
   "metadata": {},
   "source": [
    "Apesar de ser uma tabela com apenas 3 valores, já é possível observar algumas coisas interessantes. Em questão de scores, como os n são pequenos, os resultados são quase iguais para todos. Apenas para a heurística da exaustiva truncado que otemos um desempenho inferior sempre, o que foi hipotetizado antes já que parte da string é jogada fora toda vez e também não são testadas diferentes formas de alinhamento, prejudicando o desempenho. Além disso, já é possível observar também que a heurística de aleatorização às vezes possui um desempenho ruim em n pequenos. Isso porque como há aleatorização, pode ser que `k`s pequenos sejam escolhidos e portanto scores baixos sejam obtidos. No entanto, para n maiores isso não deve acontecer."
   ]
  },
  {
   "cell_type": "markdown",
   "metadata": {},
   "source": [
    "Gerando o gráfico com todas as heurísticas e seus respectivos inputs:"
   ]
  },
  {
   "cell_type": "code",
   "execution_count": 216,
   "metadata": {},
   "outputs": [
    {
     "data": {
      "text/plain": [
       "[<matplotlib.lines.Line2D at 0x7f596cbabc10>]"
      ]
     },
     "execution_count": 216,
     "metadata": {},
     "output_type": "execute_result"
    },
    {
     "data": {
      "text/plain": [
       "[<matplotlib.lines.Line2D at 0x7f596cbabeb0>]"
      ]
     },
     "execution_count": 216,
     "metadata": {},
     "output_type": "execute_result"
    },
    {
     "data": {
      "text/plain": [
       "[<matplotlib.lines.Line2D at 0x7f596cb3a1f0>]"
      ]
     },
     "execution_count": 216,
     "metadata": {},
     "output_type": "execute_result"
    },
    {
     "data": {
      "text/plain": [
       "[<matplotlib.lines.Line2D at 0x7f596cb3a4c0>]"
      ]
     },
     "execution_count": 216,
     "metadata": {},
     "output_type": "execute_result"
    },
    {
     "data": {
      "text/plain": [
       "Text(0.5, 1.0, 'Todas as heurísticas')"
      ]
     },
     "execution_count": 216,
     "metadata": {},
     "output_type": "execute_result"
    },
    {
     "data": {
      "text/plain": [
       "Text(0.5, 0, 'Tamanhos')"
      ]
     },
     "execution_count": 216,
     "metadata": {},
     "output_type": "execute_result"
    },
    {
     "data": {
      "text/plain": [
       "Text(0, 0.5, 'Tempos')"
      ]
     },
     "execution_count": 216,
     "metadata": {},
     "output_type": "execute_result"
    },
    {
     "data": {
      "text/plain": [
       "<matplotlib.legend.Legend at 0x7f596cb74490>"
      ]
     },
     "execution_count": 216,
     "metadata": {},
     "output_type": "execute_result"
    },
    {
     "data": {
      "image/png": "[encoded data removed]",
      "text/plain": [
       "<Figure size 432x288 with 1 Axes>"
      ]
     },
     "metadata": {
      "needs_background": "light"
     },
     "output_type": "display_data"
    }
   ],
   "source": [
    "plt.plot(tamanhos_BE, media_tempo_BE, label='Busca Exaustiva')\n",
    "plt.plot(tamanhos_BT, media_tempo_BT, label='Exaustiva Trunc')\n",
    "plt.plot(tamanhos_SW, media_tempo_SW, label='Smith Waterman')\n",
    "plt.plot(tamanhos_AL, media_tempo_AL, label='Aleatorização')\n",
    "plt.title('Todas as heurísticas')\n",
    "plt.xlabel('Tamanhos')\n",
    "plt.ylabel('Tempos')\n",
    "plt.legend()"
   ]
  },
  {
   "cell_type": "markdown",
   "metadata": {},
   "source": [
    "Nesse gráfico, já é possível observar como o desempenho das buscas exaustivas é sensível ao n. Enquanto que a Smith Waterman e a de aleatorização aguentam para tamanhos de até 400. Para valores abaixo de 50 de n, já fica praticamente impossível de escalar a busca exaustiva. "
   ]
  },
  {
   "cell_type": "code",
   "execution_count": 214,
   "metadata": {},
   "outputs": [
    {
     "data": {
      "text/plain": [
       "[<matplotlib.lines.Line2D at 0x7f596cc3b970>]"
      ]
     },
     "execution_count": 214,
     "metadata": {},
     "output_type": "execute_result"
    },
    {
     "data": {
      "text/plain": [
       "[<matplotlib.lines.Line2D at 0x7f596cc3b4f0>]"
      ]
     },
     "execution_count": 214,
     "metadata": {},
     "output_type": "execute_result"
    },
    {
     "data": {
      "text/plain": [
       "<matplotlib.legend.Legend at 0x7f596cd93880>"
      ]
     },
     "execution_count": 214,
     "metadata": {},
     "output_type": "execute_result"
    },
    {
     "data": {
      "image/png": "[encoded data removed]",
      "text/plain": [
       "<Figure size 432x288 with 1 Axes>"
      ]
     },
     "metadata": {
      "needs_background": "light"
     },
     "output_type": "display_data"
    }
   ],
   "source": [
    "plt.plot(tamanhos_SW, media_tempo_SW, label='Smith Waterman')\n",
    "plt.plot(tamanhos_AL, media_tempo_AL, label='Aleatorização')\n",
    "plt.legend()"
   ]
  },
  {
   "cell_type": "markdown",
   "metadata": {},
   "source": [
    "Analisando mais a fundo a aleatorização e o sith waterman, percebe- se que há uma disparidade de desempenho entre elas. Isso porque o de aleartorização roda diversas vezes, e com valores de `p` diferentes. Talve seja por isso que não se obtem uma reta perfeita e sim com perturbações. No entanto, como comentado anteriormente, os desempenhos começam a diferir para n grandes, com a heurística de aleatorização se sobressaindo quando o código é rodado diversas vezes. "
   ]
  }
 ],
 "metadata": {
  "interpreter": {
   "hash": "916dbcbb3f70747c44a77c7bcd40155683ae19c65e1c03b4aa3499c5328201f1"
  },
  "kernelspec": {
   "display_name": "Python 3",
   "language": "python",
   "name": "python3"
  },
  "language_info": {
   "codemirror_mode": {
    "name": "ipython",
    "version": 3
   },
   "file_extension": ".py",
   "mimetype": "text/x-python",
   "name": "python",
   "nbconvert_exporter": "python",
   "pygments_lexer": "ipython3",
   "version": "3.7.4"
  }
 },
 "nbformat": 4,
 "nbformat_minor": 2
}
