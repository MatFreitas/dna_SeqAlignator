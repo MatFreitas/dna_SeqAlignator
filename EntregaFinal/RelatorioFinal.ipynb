{
 "cells": [
  {
   "cell_type": "markdown",
   "metadata": {
    "id": "n3OR_AwdwNat"
   },
   "source": [
    "## Relatório GPU\n",
    "\n",
    "\n",
    "Matheus Freitas Sant'Ana"
   ]
  },
  {
   "cell_type": "markdown",
   "metadata": {
    "id": "BsqE3vbxw9hT"
   },
   "source": [
    "Neste relatório, será explorado o algoritmo de alinhamento de sequências de DNA, utilizando paralelismo com a GPU & OpenMP como forma de otimizar ao máximo o código. "
   ]
  },
  {
   "cell_type": "markdown",
   "metadata": {
    "id": "3VxJ9CpSKohG"
   },
   "source": [
    "#### Inputs necessários"
   ]
  },
  {
   "cell_type": "code",
   "execution_count": 2,
   "metadata": {
    "id": "LmsRIBi5v1LP"
   },
   "outputs": [],
   "source": [
    "import subprocess\n",
    "import time\n",
    "import os\n",
    "import sys\n",
    "import matplotlib.pyplot as plt\n",
    "import random\n",
    "import statistics\n",
    "import numpy as np\n",
    "import pandas as pd"
   ]
  },
  {
   "cell_type": "markdown",
   "metadata": {
    "id": "W-NCYBI6K01L"
   },
   "source": [
    "#### Função para rodar o executável e calcular tempo"
   ]
  },
  {
   "cell_type": "code",
   "execution_count": 3,
   "metadata": {
    "id": "1Bfr_pVDKFj7"
   },
   "outputs": [],
   "source": [
    "def roda_com_entrada(executavel, arquivo_in):\n",
    "    with open(arquivo_in) as f:\n",
    "        start = time.perf_counter()\n",
    "        proc = subprocess.run([executavel], input=f.read(), text=True, capture_output=True)\n",
    "        end = time.perf_counter()\n",
    "\n",
    "        # print('Saída:', proc.stdout)\n",
    "        # print('Stderr:', proc.stderr)\n",
    "        # print('Tempo total(s):', end - start)\n",
    "        f.close()\n",
    "    return (proc.stdout, end - start)"
   ]
  },
  {
   "cell_type": "markdown",
   "metadata": {
    "id": "TGCmVwz9NN4a"
   },
   "source": [
    "#### Função para criar entradas"
   ]
  },
  {
   "cell_type": "code",
   "execution_count": 4,
   "metadata": {
    "id": "YJ0FtG7tNRVY"
   },
   "outputs": [],
   "source": [
    "def gerador_entrada(n, m):\n",
    "    for i in range(0, 10):\n",
    "        f = open(f'./in-{i}.txt', 'w')\n",
    "        seq=[str(n)+'\\n',\n",
    "            str(m)+'\\n',\n",
    "            ''.join(random.choices(['A','T','C','G','-'],k=n))+'\\n',\n",
    "            ''.join(random.choices(['A','T','C','G','-'],k=m))]\n",
    "        f.writelines(seq)\n",
    "    f.close()    "
   ]
  },
  {
   "cell_type": "markdown",
   "metadata": {
    "id": "z3AIJgAIOGIh"
   },
   "source": [
    "#### Configurando permissões dos executáveis"
   ]
  },
  {
   "cell_type": "code",
   "execution_count": 7,
   "metadata": {
    "id": "HuTIa1vJOK74"
   },
   "outputs": [],
   "source": [
    "os.chmod(\"GPU\", 0o777)\n",
    "os.chmod(\"BuscaExaustiva\", 0o777)\n",
    "os.chmod(\"ParalelismoExaustiva\", 0o777)"
   ]
  },
  {
   "cell_type": "markdown",
   "metadata": {
    "id": "Fyf5Ti7-Od5Q"
   },
   "source": [
    "### Comando para compilar\n",
    "\n",
    "Para compilar o arquivo .cu da GPU, utilize o seguinte comando:\n",
    "\n",
    "`!nvcc -arch=sm_37 -std=c++14 GPU.cu -o GPU`"
   ]
  },
  {
   "cell_type": "markdown",
   "metadata": {
    "id": "u1WzNZoUSgqT"
   },
   "source": [
    "#### Paralelismo com OpenMP\n",
    "\n",
    "![outputcode](../Assets/openMP.png \"OpenMP\").\n",
    "\n",
    "Uma das estratégias utilzadas para otimizar o algoritmo de sequenciamento foi utilizar a paralelização com OpenMP. Essa biblioteca permite que o código seja paralelizado por meio do lançamento de threads, fazendo o map primeiramente e o reduce no final. \n",
    "\n",
    "No contexto do projeto, o cálculo utilizado ainda era o mesmo do da Busca Exaustiva, utilizando a estratégia de Smith Waterman para encontrar o score máximo. Em termos de código, as alterações foram sucintas: apenas a adição de uma linha no loop principal.\n",
    "\n",
    "`#pragma omp parallel for firstprivate(n, m, H)`\n",
    "\n",
    "Ou seja, cada thread disponível irá tratar do cálculo do score de um par de subsequências. Vale ressaltar que foi necessário fazer com que a matriz de cálculo `H` fosse um atributo `firstprivate`, para que todas tenham sua própria instância dessa variável, garantindo o score correto. \n",
    "\n",
    "Também foi necessário criar um vetor de structs, sendo que cada struct possui três atributos: a subsequência A, a subsequência B e o score. A função de cálculo devolve o score, e ele é atribuído ao seu respectivo struct `result`, sendo que ao final percorre-se o vetor de structs para encontrar o maior score."
   ]
  },
  {
   "cell_type": "markdown",
   "metadata": {
    "id": "X_91zR3XYAh7"
   },
   "source": [
    "Para o cálculo do OpenMP, foram geradas múltiplas entradas com um mesmo tamanho, de tal forma que o cálculo seja rodado diversas vezes para cada n e que se obtenha uma média dos tempos obtidos e por consequência adquirindo um resultado mais confiável. "
   ]
  },
  {
   "cell_type": "code",
   "execution_count": 14,
   "metadata": {
    "id": "GIJSmlRdVkmq"
   },
   "outputs": [],
   "source": [
    "tamanhos_OMP = []\n",
    "media_tempo_OMP = []\n",
    "\n",
    "tamanhos_BE = []\n",
    "media_tempo_BE = []\n",
    "\n",
    "n = 10\n",
    "m = 10\n",
    "\n",
    "for i in range(0, 10):\n",
    "    tempos_OMP = []\n",
    "    tempos_BE = []\n",
    "    gerador_entrada(n, m)\n",
    "    \n",
    "    for i in range(0, 10):\n",
    "      tempos_OMP.append(roda_com_entrada('./ParalelismoExaustiva', f'./in-{i}.txt')[1])\n",
    "      tempos_BE.append(roda_com_entrada('./BuscaExaustiva', f'./in-{i}.txt')[1])\n",
    "\n",
    "    tamanhos_OMP.append(n)\n",
    "    media_tempo_OMP.append(statistics.mean(tempos_OMP))\n",
    "\n",
    "    tamanhos_BE.append(n)\n",
    "    media_tempo_BE.append(statistics.mean(tempos_BE))\n",
    "    \n",
    "\n",
    "    n += 5\n",
    "    m += 5"
   ]
  },
  {
   "cell_type": "code",
   "execution_count": null,
   "metadata": {
    "colab": {
     "base_uri": "https://localhost:8080/",
     "height": 350
    },
    "id": "8a0MYIdiWXtL",
    "outputId": "871a70b9-ebed-410c-c782-a079cf9a03a4"
   },
   "outputs": [
    {
     "data": {
      "image/png": "[encoded data removed]",
      "text/plain": [
       "<Figure size 540x360 with 1 Axes>"
      ]
     },
     "metadata": {
      "needs_background": "light"
     },
     "output_type": "display_data"
    }
   ],
   "source": [
    "plt.figure(figsize=(7.5, 5))\n",
    "plt.scatter(tamanhos_OMP, media_tempo_OMP)\n",
    "plt.title('Paralelismo com OpenMP')\n",
    "plt.xlabel('Tamanhos')\n",
    "plt.ylabel('Tempos')\n",
    "plt.grid('on')\n",
    "plt.show()"
   ]
  },
  {
   "cell_type": "markdown",
   "metadata": {
    "id": "Dk_15jpkamhL"
   },
   "source": [
    "Como esse código ainda é uma busca exaustiva, naturalmente ele não roda para tamanhos de sequência muito grandes. Seu desempenho conforme o tamanho aumenta é quase que exponencial, mesmo com o paralelismo. A efeito de comparação, pode-se observar o desempenho dos dois algoritmos abaixo."
   ]
  },
  {
   "cell_type": "code",
   "execution_count": 15,
   "metadata": {
    "colab": {
     "base_uri": "https://localhost:8080/",
     "height": 350
    },
    "id": "Nn_URfzEbduk",
    "outputId": "b3c20c4b-4189-4e6c-99cc-a0e3167a4d4c"
   },
   "outputs": [
    {
     "data": {
      "image/png": "[encoded data removed]",
      "text/plain": [
       "<Figure size 540x360 with 1 Axes>"
      ]
     },
     "metadata": {
      "needs_background": "light"
     },
     "output_type": "display_data"
    }
   ],
   "source": [
    "plt.figure(figsize=(7.5, 5))\n",
    "plt.scatter(tamanhos_OMP, media_tempo_OMP, alpha = 0.5)\n",
    "plt.scatter(tamanhos_BE, media_tempo_BE, alpha = 0.5)\n",
    "plt.title('OpenMP x Busca Exaustiva')\n",
    "plt.xlabel('Tamanhos')\n",
    "plt.ylabel('Tempos')\n",
    "plt.legend(['OMP', 'Busca Exaustiva'])\n",
    "plt.grid('on')\n",
    "plt.show()"
   ]
  },
  {
   "cell_type": "markdown",
   "metadata": {
    "id": "dka4adhicsGd"
   },
   "source": [
    "Pode-se observar que mesmo com o OpenMP, não houve diferença significativa em desempenho em relação ao código sem paralelismo. No entanto, uma leve melhora pode ser observada quando o tamanho de entrada é maior, se demonstrnado como uma melhor opção do que o código bruto da busca exaustiva. Uma possível causa de não haver uma melhoria significativa é o uso do `firstprivate`, que compromete o desempenho do paralelismo."
   ]
  },
  {
   "cell_type": "markdown",
   "metadata": {
    "id": "3KP0c0ySLr2W"
   },
   "source": [
    "#### Paralelismo com GPU\n",
    "\n",
    "![outputcode](../Assets/Stemp.png \"Stemp\").\n",
    "\n",
    "Uma maneira de encontrar uma solução ótima global para o problema de alinhamento de sequências é por meio da busca exaustiva, que testa todas as subsequências possíveis e encontra o par com maior alinhamento. No entanto, possui uma complexidade muito alta quando as entradas são grandes. Dessa forma, como maneira de contornar esse problema, é possível utilizar a GPU como forma de paralelismo para o cálculo de score de cada subsequência, ao invés de utilizar apenas a CPU para todo o algoritmo.\n",
    "\n",
    "Utilizando GPU, a estratégia que originalmente se tinha em mente era de passar uma grande quantidade de dados para a GPU, ou seja, aumentar a vazão de dados e dessa forma alocar o máximo de dados possível na GPU ao mesmo tempo. A CPU é mais rápida para executar instruções, mas quando as instruções são simples ela tem um desempenho pior que o da GPU pois executa sequencialmente, enquanto que a GPU consegue paralelizar seus processos.\n",
    "\n",
    "Por isso, o cálculo de score de cada par de subsequência foi alterado com o objetivo de obter uma maior vazão de dados. O método de geração de todas as subsequências ainda se mantem o mesmo, de forma sequencial, bem como a forma como elas são percorridas. No entanto, o cálculo não é feito mais utilizando Smith Waterman. O cálculo dentro da GPU realiza a comparação de uma subsequência A com uma letra da subsequência de B, utilizando os mesmos critérios de Smith Waterman. Dessa forma, ao invés de já montar a matriz e realizar o cálculo encontrando o maior valor dela, o cálculo foi alterado de tal forma a ser feito de linha e linha. \n",
    "\n",
    "A biblioteca utilizada foi a do thrust, em que um transform com um functor é utilizado para realizar o cálculo descrito acima (essa comparação é a da diagonal e a da inserção), e um inclusive scan para a deleção. Vale ressaltar que a maneira como eram geradas múltiplas entradas para um mesmo `n`foi abdicada aqui devido ao alto tempo de execução do código."
   ]
  },
  {
   "cell_type": "code",
   "execution_count": 12,
   "metadata": {
    "id": "mXPOhrfDlCbX"
   },
   "outputs": [],
   "source": [
    "tamanhos_GPU = []\n",
    "media_tempo_GPU = []\n",
    "\n",
    "n = 5\n",
    "m = 5\n",
    "\n",
    "for i in range(0, 10):\n",
    "    tempos_GPU = []\n",
    "    tempos_OMP = []\n",
    "    gerador_entrada(n, m)\n",
    "    \n",
    "    tempos_GPU.append(roda_com_entrada('./GPU', f'./in-{i}.txt')[1])\n",
    "    \n",
    "    tamanhos_GPU.append(n)\n",
    "    media_tempo_GPU.append(statistics.mean(tempos_GPU))\n",
    "\n",
    "    n += 3\n",
    "    m += 3"
   ]
  },
  {
   "cell_type": "code",
   "execution_count": 18,
   "metadata": {
    "colab": {
     "base_uri": "https://localhost:8080/",
     "height": 295
    },
    "id": "62DXZPk_yHmy",
    "outputId": "0a86b94c-5f41-4121-9b55-8aa86f8cba21"
   },
   "outputs": [
    {
     "data": {
      "image/png": "[encoded data removed]",
      "text/plain": [
       "<Figure size 432x288 with 1 Axes>"
      ]
     },
     "metadata": {
      "needs_background": "light"
     },
     "output_type": "display_data"
    }
   ],
   "source": [
    "BE = plt.scatter(tamanhos_GPU, media_tempo_GPU)\n",
    "plt.title('Paralelismo com GPU')\n",
    "plt.xlabel('Tamanhos')\n",
    "plt.ylabel('Tempos')\n",
    "plt.legend(('GPU', 'OpenMP'))\n",
    "plt.show()"
   ]
  },
  {
   "cell_type": "markdown",
   "metadata": {
    "id": "MQhngsKjq2To"
   },
   "source": [
    "Pode-se observar que o desempenho da GPU não está bom, para entradas grandes ele demora muito tempo para executar. Uma possível iteração ao projeto poderia ser criar um grande vetor do tipo char que possuiria todas as subsequências de uma sequência 'concatenadas' e outro vetor de índices que faria o controle de faixas para obter reconstruir as subsequências corretas. Dessa forma, seria possível enviar todos os dados de uma vez para a GPU, o que tornaria o desempenho do código muito melhor. No entanto, não foi possível realizar a construção desse algoritmo, pois a biblioteca thrust não permite que funções do tipo host (CPU) sejam utilizadas dentro de functors, impossibilitando o cálculo (Uma tentativa de fazer o código  dessa ideia está no arquivo `tentativa_GPUindex.cu`, dentro da pasta `Paralelismo`, porém o código não foi finalizado)."
   ]
  },
  {
   "cell_type": "markdown",
   "metadata": {
    "id": "J8XQCcShOpGC"
   },
   "source": [
    "#### Paralelismo GPU x Paralelismo OpenMP"
   ]
  },
  {
   "cell_type": "code",
   "execution_count": 17,
   "metadata": {
    "colab": {
     "base_uri": "https://localhost:8080/",
     "height": 295
    },
    "id": "k9D-CGwiPO5Y",
    "outputId": "6d51ae3b-52d5-4f11-c4a5-5bbd659b3ab2"
   },
   "outputs": [
    {
     "data": {
      "image/png": "[encoded data removed]",
      "text/plain": [
       "<Figure size 432x288 with 1 Axes>"
      ]
     },
     "metadata": {
      "needs_background": "light"
     },
     "output_type": "display_data"
    }
   ],
   "source": [
    "GPU = plt.scatter(tamanhos_GPU, media_tempo_GPU)\n",
    "BE = plt.scatter(tamanhos_OMP, media_tempo_OMP)\n",
    "plt.title('Paralelismo com GPU')\n",
    "plt.xlabel('Tamanhos')\n",
    "plt.ylabel('Tempos')\n",
    "plt.legend(('GPU', 'OpenMP'))\n",
    "plt.show()"
   ]
  },
  {
   "cell_type": "markdown",
   "metadata": {
    "id": "z4D5vTyI0xkj"
   },
   "source": [
    "Por fim, ao se comparar o desempenho da GPU com a do OpenMP, a diferença é notória: para entradas de mesmo tamanho, como 30 por exemplo, já se pode notar como o desempenho do código do OpenMP é superior. Para entradas pequenas a diferença é quase que inexistente."
   ]
  }
 ],
 "metadata": {
  "accelerator": "GPU",
  "colab": {
   "collapsed_sections": [],
   "name": "Cópia de RelatorioGPU.ipynb",
   "provenance": []
  },
  "kernelspec": {
   "display_name": "Python 3",
   "language": "python",
   "name": "python3"
  },
  "language_info": {
   "codemirror_mode": {
    "name": "ipython",
    "version": 3
   },
   "file_extension": ".py",
   "mimetype": "text/x-python",
   "name": "python",
   "nbconvert_exporter": "python",
   "pygments_lexer": "ipython3",
   "version": "3.7.4"
  }
 },
 "nbformat": 4,
 "nbformat_minor": 0
}
