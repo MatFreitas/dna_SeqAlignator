{
 "cells": [
  {
   "cell_type": "markdown",
   "metadata": {},
   "source": [
    "## Relatório Paralelização OpenMP\n",
    "\n",
    "#### Matheus Freitas Sant'Ana"
   ]
  },
  {
   "cell_type": "markdown",
   "metadata": {},
   "source": [
    "___\n",
    "Para usar este projeto, você deve primeiro compilar o código com o seguinte comando:\n",
    "\n",
    "`g++ -Wall -g -fopenmp ParalelismoExaustiva.cpp -o ParalelismoExaustiva`\n",
    "\n",
    "OBS: Não esquecer flag do `fopenmp`."
   ]
  },
  {
   "cell_type": "markdown",
   "metadata": {},
   "source": [
    "Para gerar o arquivo de entrada, rode o código abaixo (alternado `n` e `m` para os valores que preferir):"
   ]
  },
  {
   "cell_type": "code",
   "execution_count": 9,
   "metadata": {},
   "outputs": [
    {
     "name": "stdout",
     "output_type": "stream",
     "text": [
      "10\n",
      "40\n",
      "AC-AGA-TTG\n",
      "CACTC--T-AAAA-ATTC-ATCTTT-CGACTTAG--ACTC\n"
     ]
    }
   ],
   "source": [
    "import random\n",
    "n = 10\n",
    "m = 40\n",
    "file = 'dna.seq'\n",
    "f = open(file, 'w')\n",
    "seq=[str(n)+'\\n',\n",
    "     str(m)+'\\n',\n",
    "     ''.join(random.choices(['A','T','C','G','-'],k=n))+'\\n',\n",
    "     ''.join(random.choices(['A','T','C','G','-'],k=m))]\n",
    "f.writelines(seq)\n",
    "f.close()\n",
    "print(''.join(seq))"
   ]
  },
  {
   "cell_type": "markdown",
   "metadata": {},
   "source": [
    "_____\n",
    "O tempo de execução do Busca Exaustiva é: "
   ]
  },
  {
   "cell_type": "code",
   "execution_count": 10,
   "metadata": {},
   "outputs": [],
   "source": [
    "import subprocess\n",
    "import time"
   ]
  },
  {
   "cell_type": "code",
   "execution_count": 11,
   "metadata": {},
   "outputs": [
    {
     "name": "stdout",
     "output_type": "stream",
     "text": [
      "Melhor Resultado: 9\n",
      "-AGA-TT\n",
      "-AAAA-ATT\n",
      "\n",
      "Tempo total(s): 0.45573919999878854\n"
     ]
    }
   ],
   "source": [
    "with open('./dna.seq') as f:\n",
    "    start = time.perf_counter()\n",
    "    proc = subprocess.run(['./BuscaExaustiva'], input=f.read(), text=True, capture_output=True)\n",
    "    end = time.perf_counter()\n",
    "\n",
    "    print(proc.stdout)\n",
    "    print('Tempo total(s):', end - start)"
   ]
  },
  {
   "cell_type": "markdown",
   "metadata": {},
   "source": [
    "O tempo de execução da Busca Exaustiva paralelizada é:"
   ]
  },
  {
   "cell_type": "code",
   "execution_count": 12,
   "metadata": {},
   "outputs": [
    {
     "name": "stdout",
     "output_type": "stream",
     "text": [
      "Melhor Resultado: 9\n",
      "-AGA-TT\n",
      "-AAAA-ATT\n",
      "\n",
      "Tempo total(s): 0.33700080000198795\n"
     ]
    }
   ],
   "source": [
    "with open('./dna.seq') as f:\n",
    "    start = time.perf_counter()\n",
    "    proc = subprocess.run(['./ParalelismoExaustiva'], input=f.read(), text=True, capture_output=True)\n",
    "    end = time.perf_counter()\n",
    "\n",
    "    print(proc.stdout)\n",
    "    print('Tempo total(s):', end - start)"
   ]
  },
  {
   "cell_type": "markdown",
   "metadata": {},
   "source": [
    "Pode-se observar que o tempo de execução da versão paralelizada é menor para as mesmas entradas. Em relação à busca exaustiva, poucas alterações foram realizadas, apenas separando o for da geração das subsequências com o do cálculo, sendo que esse último foi o paralelizado.\n",
    "\n",
    "___\n",
    "## Validação \n",
    "\n",
    "O código foi validado usando o [simulador do algoritmo Smith-Waterman](http://rna.informatik.uni-freiburg.de/Teaching/index.jsp?toolName=Smith-Waterman). Um exemplo de input e output pode ser verificado nas imagens a seguir."
   ]
  },
  {
   "cell_type": "markdown",
   "metadata": {},
   "source": [
    "#### Código:\n",
    "\n",
    "- Input:\n",
    "\n",
    "![intputcode](../Assets/inputcode.png \"Input Code\")\n",
    "\n",
    "- Output:\n",
    "\n",
    "![outputcode](../Assets/outputcode.png \"Output Code\")."
   ]
  },
  {
   "cell_type": "markdown",
   "metadata": {},
   "source": [
    "#### Simulador\n",
    "\n",
    "- Input & Output:\n",
    "\n",
    "![outputcode](../Assets/simulador.png \"Output Code\")."
   ]
  }
 ],
 "metadata": {
  "interpreter": {
   "hash": "916dbcbb3f70747c44a77c7bcd40155683ae19c65e1c03b4aa3499c5328201f1"
  },
  "kernelspec": {
   "display_name": "Python 3.8.5 64-bit",
   "language": "python",
   "name": "python3"
  },
  "language_info": {
   "codemirror_mode": {
    "name": "ipython",
    "version": 3
   },
   "file_extension": ".py",
   "mimetype": "text/x-python",
   "name": "python",
   "nbconvert_exporter": "python",
   "pygments_lexer": "ipython3",
   "version": "3.8.5"
  },
  "orig_nbformat": 4
 },
 "nbformat": 4,
 "nbformat_minor": 2
}
