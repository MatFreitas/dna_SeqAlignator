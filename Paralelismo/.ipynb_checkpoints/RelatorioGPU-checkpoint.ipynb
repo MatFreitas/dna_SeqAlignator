{
 "cells": [
  {
   "cell_type": "markdown",
   "metadata": {
    "id": "u0kZu1EV4eLL"
   },
   "source": [
    "## Relatório Paralelização GPU\n",
    "\n",
    "#### Matheus Freitas Sant'Ana"
   ]
  },
  {
   "cell_type": "markdown",
   "metadata": {
    "id": "wjY7H76Q4eLO"
   },
   "source": [
    "___\n",
    "Para usar este projeto, você deve primeiro compilar o código com o seguinte comando:\n",
    "\n",
    "`!nvcc -arch=sm_37 -std=c++14 GPU.cu -o GPU`"
   ]
  },
  {
   "cell_type": "markdown",
   "metadata": {
    "id": "C0BYd7yt5Bc5"
   },
   "source": [
    "Alterando as permissões dos executáveis:"
   ]
  },
  {
   "cell_type": "code",
   "execution_count": 5,
   "metadata": {
    "id": "aYJgwqC15EO-"
   },
   "outputs": [],
   "source": [
    "import os\n",
    "os.chmod(\"GPU\", 0o777)\n",
    "os.chmod(\"BuscaExaustiva\", 0o777)"
   ]
  },
  {
   "cell_type": "markdown",
   "metadata": {
    "id": "tlnqod4F4eLQ"
   },
   "source": [
    "Para gerar o arquivo de entrada, rode o código abaixo (alternado `n` e `m` para os valores que preferir):"
   ]
  },
  {
   "cell_type": "code",
   "execution_count": 1,
   "metadata": {
    "colab": {
     "base_uri": "https://localhost:8080/"
    },
    "id": "CoOOkLnG4eLR",
    "outputId": "fdcc5439-6251-4d82-c3fb-4218752d8e47"
   },
   "outputs": [
    {
     "name": "stdout",
     "output_type": "stream",
     "text": [
      "10\n",
      "5\n",
      "TTATTAA-GA\n",
      "GTGTG\n"
     ]
    }
   ],
   "source": [
    "import random\n",
    "n = 10\n",
    "m = 5\n",
    "file = 'dna.seq'\n",
    "f = open(file, 'w')\n",
    "seq=[str(n)+'\\n',\n",
    "     str(m)+'\\n',\n",
    "     ''.join(random.choices(['A','T','C','G','-'],k=n))+'\\n',\n",
    "     ''.join(random.choices(['A','T','C','G','-'],k=m))]\n",
    "f.writelines(seq)\n",
    "f.close()\n",
    "print(''.join(seq))"
   ]
  },
  {
   "cell_type": "markdown",
   "metadata": {
    "id": "CJL7SMtl4eLT"
   },
   "source": [
    "_____\n",
    "O tempo de execução do Busca Exaustiva é: "
   ]
  },
  {
   "cell_type": "code",
   "execution_count": 2,
   "metadata": {
    "id": "GAz2topM4eLU"
   },
   "outputs": [],
   "source": [
    "import subprocess\n",
    "import time"
   ]
  },
  {
   "cell_type": "code",
   "execution_count": 7,
   "metadata": {
    "colab": {
     "base_uri": "https://localhost:8080/"
    },
    "id": "G8i5WEmk4eLV",
    "outputId": "a7d08ec8-b44c-4d07-92d9-f625ef8dd113"
   },
   "outputs": [
    {
     "name": "stdout",
     "output_type": "stream",
     "text": [
      "Melhor Resultado: 3\n",
      "TT\n",
      "TGT\n",
      "\n",
      "Tempo total(s): 0.014677259000023923\n"
     ]
    }
   ],
   "source": [
    "with open('./dna.seq') as f:\n",
    "    start = time.perf_counter()\n",
    "    proc = subprocess.run(['./BuscaExaustiva'], input=f.read(), text=True, capture_output=True)\n",
    "    end = time.perf_counter()\n",
    "\n",
    "    print(proc.stdout)\n",
    "    print('Tempo total(s):', end - start)"
   ]
  },
  {
   "cell_type": "markdown",
   "metadata": {
    "id": "ZriqHTBX4eLW"
   },
   "source": [
    "O tempo de execução da Busca Exaustiva paralelizada é:"
   ]
  },
  {
   "cell_type": "code",
   "execution_count": 8,
   "metadata": {
    "colab": {
     "base_uri": "https://localhost:8080/"
    },
    "id": "09IlLEoa4eLX",
    "outputId": "511cd5b6-a1a2-41dd-eb15-21f4dfd1f2e9"
   },
   "outputs": [
    {
     "name": "stdout",
     "output_type": "stream",
     "text": [
      "\n",
      "Tempo total(s): 0.1424521010000035\n"
     ]
    }
   ],
   "source": [
    "with open('./dna.seq') as f:\n",
    "    start = time.perf_counter()\n",
    "    proc = subprocess.run(['./GPU'], input=f.read(), text=True, capture_output=True)\n",
    "    end = time.perf_counter()\n",
    "\n",
    "    print(proc.stdout)\n",
    "    print('Tempo total(s):', end - start)"
   ]
  },
  {
   "cell_type": "markdown",
   "metadata": {
    "id": "nyFMY16X4eLY"
   },
   "source": [
    "Pode-se observar que o tempo de execução da GPU é maior do que o da Busca Exaustiva.\n",
    "\n",
    "___\n",
    "## Validação \n",
    "\n",
    "O código foi validado usando o [simulador do algoritmo Smith-Waterman](http://rna.informatik.uni-freiburg.de/Teaching/index.jsp?toolName=Smith-Waterman). Um exemplo de input e output pode ser verificado nas imagens a seguir."
   ]
  },
  {
   "cell_type": "markdown",
   "metadata": {
    "id": "rQlPvHXt4eLZ"
   },
   "source": [
    "#### Código:\n",
    "\n",
    "- Input:\n",
    "\n",
    "![intputcode](../Assets/inputcode.png \"Input Code\")\n",
    "\n",
    "- Output:\n",
    "\n",
    "![outputcode](../Assets/outputcode.png \"Output Code\")."
   ]
  },
  {
   "cell_type": "markdown",
   "metadata": {
    "id": "BceYsLLz4eLa"
   },
   "source": [
    "#### Simulador\n",
    "\n",
    "- Input & Output:\n",
    "\n",
    "![outputcode](../Assets/simulador.png \"Output Code\")."
   ]
  }
 ],
 "metadata": {
  "colab": {
   "name": "RelatorioGPU.ipynb",
   "provenance": []
  },
  "interpreter": {
   "hash": "916dbcbb3f70747c44a77c7bcd40155683ae19c65e1c03b4aa3499c5328201f1"
  },
  "kernelspec": {
   "display_name": "Python 3",
   "language": "python",
   "name": "python3"
  },
  "language_info": {
   "codemirror_mode": {
    "name": "ipython",
    "version": 3
   },
   "file_extension": ".py",
   "mimetype": "text/x-python",
   "name": "python",
   "nbconvert_exporter": "python",
   "pygments_lexer": "ipython3",
   "version": "3.7.4"
  }
 },
 "nbformat": 4,
 "nbformat_minor": 1
}
